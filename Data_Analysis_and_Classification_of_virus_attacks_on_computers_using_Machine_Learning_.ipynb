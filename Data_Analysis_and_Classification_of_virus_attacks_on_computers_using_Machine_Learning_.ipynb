{
  "cells": [
    {
      "cell_type": "code",
      "execution_count": null,
      "metadata": {
        "id": "zcC4c98OpgV-"
      },
      "outputs": [],
      "source": [
        "import pandas as pd\n",
        "import numpy as np\n",
        "\n",
        "import matplotlib.pyplot as plt\n",
        "import seaborn as sns\n",
        "\n",
        "from sklearn.preprocessing import StandardScaler\n",
        "\n",
        "from sklearn.model_selection import train_test_split, cross_val_score\n",
        "from sklearn.model_selection import KFold\n",
        "\n",
        "from sklearn.linear_model import LogisticRegression\n",
        "\n",
        "from sklearn.ensemble import RandomForestClassifier\n",
        "\n",
        "from sklearn.model_selection import GridSearchCV\n",
        "\n",
        "from sklearn.tree import DecisionTreeClassifier\n",
        "\n",
        "from sklearn.neighbors import KNeighborsClassifier\n",
        "\n",
        "from sklearn.feature_selection import SelectKBest, f_classif, mutual_info_classif\n",
        "\n",
        "from sklearn.feature_selection import chi2\n",
        "from scipy.sparse import csr_matrix"
      ]
    },
    {
      "cell_type": "markdown",
      "metadata": {
        "id": "Alf7epM3pgWB"
      },
      "source": [
        "## Data loading"
      ]
    },
    {
      "cell_type": "code",
      "execution_count": null,
      "metadata": {
        "colab": {
          "base_uri": "https://localhost:8080/",
          "height": 488
        },
        "id": "C9ZSgZnjpgWB",
        "outputId": "3caf5ade-23de-4578-bb0d-8e9c6f3d7dbd"
      },
      "outputs": [
        {
          "output_type": "execute_result",
          "data": {
            "text/plain": [
              "      Virtual  Offset     loc       Import  Imports     var     Forwarder  \\\n",
              "0         3.0     3.0   689.0    18.000000      6.0   890.0      6.000000   \n",
              "1         3.0     3.0   583.0    15.000000      5.0  1574.0   8640.382774   \n",
              "2         3.0     4.0  2796.0    15.000000      5.0   625.0      5.000000   \n",
              "3         3.0     3.0   373.0  2726.071722      9.0   615.0      9.000000   \n",
              "4         3.0     3.0    77.0    12.000000      4.0    66.0  91945.635853   \n",
              "...       ...     ...     ...          ...      ...     ...           ...   \n",
              "4994      4.0     4.0   118.0     0.000000      3.0     0.0      0.000000   \n",
              "4995      3.0     3.0    27.0    12.000000      4.0    38.0      4.000000   \n",
              "4996      3.0     3.0    16.0    12.000000      4.0     7.0      4.000000   \n",
              "4997      4.0     4.0  2810.0     0.000000      2.0   666.0      0.000000   \n",
              "4998      3.0     4.0  1587.0    21.000000      7.0   526.0      7.000000   \n",
              "\n",
              "      UINT          LONG          BOOL  ...          Img99         Img100  \\\n",
              "0     39.0     17.000000     88.000000  ... -208196.847822  149454.443336   \n",
              "1      6.0      7.000000     30.000000  ...   36209.864030  221318.549792   \n",
              "2     58.0     11.000000    152.000000  ...   88398.670923   66550.556919   \n",
              "3     16.0  98583.277889     34.000000  ... -157101.258148  -60336.395075   \n",
              "4      3.0      0.000000      5.000000  ...   32595.648968 -228909.737896   \n",
              "...    ...           ...           ...  ...            ...            ...   \n",
              "4994   7.0      0.000000     19.000000  ...  -73364.892264   56908.607312   \n",
              "4995   3.0      0.000000  84772.903087  ...  -91323.369562  101628.992660   \n",
              "4996   9.0      0.000000     16.000000  ...   26135.603443  172273.939349   \n",
              "4997  14.0      9.000000     26.000000  ...  -70335.106256  -21680.148668   \n",
              "4998  34.0      5.000000  61033.550970  ...  -14702.601507   18593.024103   \n",
              "\n",
              "             Img101         Img102         Img103         Img104  \\\n",
              "0     330552.774213  133907.410063   44038.800343   55156.067737   \n",
              "1      -1568.194718   22651.037591 -144906.975987  -33489.566102   \n",
              "2       5404.362294   13947.925003  -48559.885445  257023.562444   \n",
              "3     157629.928962  117458.409503   62076.273381   98733.489947   \n",
              "4     -87033.363460  131606.196188 -118625.690367   89326.297602   \n",
              "...             ...            ...            ...            ...   \n",
              "4994   17895.279817   -4589.198675  103618.354421 -126164.290238   \n",
              "4995    8812.429736  -41149.748369  -56293.578460   87524.257112   \n",
              "4996   74515.593674   79555.659907   79230.809864   92047.004360   \n",
              "4997   11900.591113    8015.793354 -105036.351181  -33386.286236   \n",
              "4998    2249.256720   45713.524900  -16239.518388  -78553.054374   \n",
              "\n",
              "             Img105         Img106    Img107  target  \n",
              "0     -77588.974897  171979.000000  162674.0       2  \n",
              "1     157701.356695    7702.000000    6551.0       8  \n",
              "2    -204889.973046  151324.169975   12946.0       6  \n",
              "3     -51461.636374  122247.000000   98621.0       4  \n",
              "4     -84991.427204   15501.000000   11864.0       1  \n",
              "...             ...            ...       ...     ...  \n",
              "4994  -24272.971224    7100.000000    6002.0       4  \n",
              "4995 -200433.940978   69304.000000   65638.0       3  \n",
              "4996   94829.356066   71789.000000   68354.0       3  \n",
              "4997  169699.674511   89989.000000   70139.0       2  \n",
              "4998 -115903.637264    9394.000000    3145.0       9  \n",
              "\n",
              "[4999 rows x 1805 columns]"
            ],
            "text/html": [
              "\n",
              "  <div id=\"df-a14b020b-ddca-43c0-8b33-8527b75be456\">\n",
              "    <div class=\"colab-df-container\">\n",
              "      <div>\n",
              "<style scoped>\n",
              "    .dataframe tbody tr th:only-of-type {\n",
              "        vertical-align: middle;\n",
              "    }\n",
              "\n",
              "    .dataframe tbody tr th {\n",
              "        vertical-align: top;\n",
              "    }\n",
              "\n",
              "    .dataframe thead th {\n",
              "        text-align: right;\n",
              "    }\n",
              "</style>\n",
              "<table border=\"1\" class=\"dataframe\">\n",
              "  <thead>\n",
              "    <tr style=\"text-align: right;\">\n",
              "      <th></th>\n",
              "      <th>Virtual</th>\n",
              "      <th>Offset</th>\n",
              "      <th>loc</th>\n",
              "      <th>Import</th>\n",
              "      <th>Imports</th>\n",
              "      <th>var</th>\n",
              "      <th>Forwarder</th>\n",
              "      <th>UINT</th>\n",
              "      <th>LONG</th>\n",
              "      <th>BOOL</th>\n",
              "      <th>...</th>\n",
              "      <th>Img99</th>\n",
              "      <th>Img100</th>\n",
              "      <th>Img101</th>\n",
              "      <th>Img102</th>\n",
              "      <th>Img103</th>\n",
              "      <th>Img104</th>\n",
              "      <th>Img105</th>\n",
              "      <th>Img106</th>\n",
              "      <th>Img107</th>\n",
              "      <th>target</th>\n",
              "    </tr>\n",
              "  </thead>\n",
              "  <tbody>\n",
              "    <tr>\n",
              "      <th>0</th>\n",
              "      <td>3.0</td>\n",
              "      <td>3.0</td>\n",
              "      <td>689.0</td>\n",
              "      <td>18.000000</td>\n",
              "      <td>6.0</td>\n",
              "      <td>890.0</td>\n",
              "      <td>6.000000</td>\n",
              "      <td>39.0</td>\n",
              "      <td>17.000000</td>\n",
              "      <td>88.000000</td>\n",
              "      <td>...</td>\n",
              "      <td>-208196.847822</td>\n",
              "      <td>149454.443336</td>\n",
              "      <td>330552.774213</td>\n",
              "      <td>133907.410063</td>\n",
              "      <td>44038.800343</td>\n",
              "      <td>55156.067737</td>\n",
              "      <td>-77588.974897</td>\n",
              "      <td>171979.000000</td>\n",
              "      <td>162674.0</td>\n",
              "      <td>2</td>\n",
              "    </tr>\n",
              "    <tr>\n",
              "      <th>1</th>\n",
              "      <td>3.0</td>\n",
              "      <td>3.0</td>\n",
              "      <td>583.0</td>\n",
              "      <td>15.000000</td>\n",
              "      <td>5.0</td>\n",
              "      <td>1574.0</td>\n",
              "      <td>8640.382774</td>\n",
              "      <td>6.0</td>\n",
              "      <td>7.000000</td>\n",
              "      <td>30.000000</td>\n",
              "      <td>...</td>\n",
              "      <td>36209.864030</td>\n",
              "      <td>221318.549792</td>\n",
              "      <td>-1568.194718</td>\n",
              "      <td>22651.037591</td>\n",
              "      <td>-144906.975987</td>\n",
              "      <td>-33489.566102</td>\n",
              "      <td>157701.356695</td>\n",
              "      <td>7702.000000</td>\n",
              "      <td>6551.0</td>\n",
              "      <td>8</td>\n",
              "    </tr>\n",
              "    <tr>\n",
              "      <th>2</th>\n",
              "      <td>3.0</td>\n",
              "      <td>4.0</td>\n",
              "      <td>2796.0</td>\n",
              "      <td>15.000000</td>\n",
              "      <td>5.0</td>\n",
              "      <td>625.0</td>\n",
              "      <td>5.000000</td>\n",
              "      <td>58.0</td>\n",
              "      <td>11.000000</td>\n",
              "      <td>152.000000</td>\n",
              "      <td>...</td>\n",
              "      <td>88398.670923</td>\n",
              "      <td>66550.556919</td>\n",
              "      <td>5404.362294</td>\n",
              "      <td>13947.925003</td>\n",
              "      <td>-48559.885445</td>\n",
              "      <td>257023.562444</td>\n",
              "      <td>-204889.973046</td>\n",
              "      <td>151324.169975</td>\n",
              "      <td>12946.0</td>\n",
              "      <td>6</td>\n",
              "    </tr>\n",
              "    <tr>\n",
              "      <th>3</th>\n",
              "      <td>3.0</td>\n",
              "      <td>3.0</td>\n",
              "      <td>373.0</td>\n",
              "      <td>2726.071722</td>\n",
              "      <td>9.0</td>\n",
              "      <td>615.0</td>\n",
              "      <td>9.000000</td>\n",
              "      <td>16.0</td>\n",
              "      <td>98583.277889</td>\n",
              "      <td>34.000000</td>\n",
              "      <td>...</td>\n",
              "      <td>-157101.258148</td>\n",
              "      <td>-60336.395075</td>\n",
              "      <td>157629.928962</td>\n",
              "      <td>117458.409503</td>\n",
              "      <td>62076.273381</td>\n",
              "      <td>98733.489947</td>\n",
              "      <td>-51461.636374</td>\n",
              "      <td>122247.000000</td>\n",
              "      <td>98621.0</td>\n",
              "      <td>4</td>\n",
              "    </tr>\n",
              "    <tr>\n",
              "      <th>4</th>\n",
              "      <td>3.0</td>\n",
              "      <td>3.0</td>\n",
              "      <td>77.0</td>\n",
              "      <td>12.000000</td>\n",
              "      <td>4.0</td>\n",
              "      <td>66.0</td>\n",
              "      <td>91945.635853</td>\n",
              "      <td>3.0</td>\n",
              "      <td>0.000000</td>\n",
              "      <td>5.000000</td>\n",
              "      <td>...</td>\n",
              "      <td>32595.648968</td>\n",
              "      <td>-228909.737896</td>\n",
              "      <td>-87033.363460</td>\n",
              "      <td>131606.196188</td>\n",
              "      <td>-118625.690367</td>\n",
              "      <td>89326.297602</td>\n",
              "      <td>-84991.427204</td>\n",
              "      <td>15501.000000</td>\n",
              "      <td>11864.0</td>\n",
              "      <td>1</td>\n",
              "    </tr>\n",
              "    <tr>\n",
              "      <th>...</th>\n",
              "      <td>...</td>\n",
              "      <td>...</td>\n",
              "      <td>...</td>\n",
              "      <td>...</td>\n",
              "      <td>...</td>\n",
              "      <td>...</td>\n",
              "      <td>...</td>\n",
              "      <td>...</td>\n",
              "      <td>...</td>\n",
              "      <td>...</td>\n",
              "      <td>...</td>\n",
              "      <td>...</td>\n",
              "      <td>...</td>\n",
              "      <td>...</td>\n",
              "      <td>...</td>\n",
              "      <td>...</td>\n",
              "      <td>...</td>\n",
              "      <td>...</td>\n",
              "      <td>...</td>\n",
              "      <td>...</td>\n",
              "      <td>...</td>\n",
              "    </tr>\n",
              "    <tr>\n",
              "      <th>4994</th>\n",
              "      <td>4.0</td>\n",
              "      <td>4.0</td>\n",
              "      <td>118.0</td>\n",
              "      <td>0.000000</td>\n",
              "      <td>3.0</td>\n",
              "      <td>0.0</td>\n",
              "      <td>0.000000</td>\n",
              "      <td>7.0</td>\n",
              "      <td>0.000000</td>\n",
              "      <td>19.000000</td>\n",
              "      <td>...</td>\n",
              "      <td>-73364.892264</td>\n",
              "      <td>56908.607312</td>\n",
              "      <td>17895.279817</td>\n",
              "      <td>-4589.198675</td>\n",
              "      <td>103618.354421</td>\n",
              "      <td>-126164.290238</td>\n",
              "      <td>-24272.971224</td>\n",
              "      <td>7100.000000</td>\n",
              "      <td>6002.0</td>\n",
              "      <td>4</td>\n",
              "    </tr>\n",
              "    <tr>\n",
              "      <th>4995</th>\n",
              "      <td>3.0</td>\n",
              "      <td>3.0</td>\n",
              "      <td>27.0</td>\n",
              "      <td>12.000000</td>\n",
              "      <td>4.0</td>\n",
              "      <td>38.0</td>\n",
              "      <td>4.000000</td>\n",
              "      <td>3.0</td>\n",
              "      <td>0.000000</td>\n",
              "      <td>84772.903087</td>\n",
              "      <td>...</td>\n",
              "      <td>-91323.369562</td>\n",
              "      <td>101628.992660</td>\n",
              "      <td>8812.429736</td>\n",
              "      <td>-41149.748369</td>\n",
              "      <td>-56293.578460</td>\n",
              "      <td>87524.257112</td>\n",
              "      <td>-200433.940978</td>\n",
              "      <td>69304.000000</td>\n",
              "      <td>65638.0</td>\n",
              "      <td>3</td>\n",
              "    </tr>\n",
              "    <tr>\n",
              "      <th>4996</th>\n",
              "      <td>3.0</td>\n",
              "      <td>3.0</td>\n",
              "      <td>16.0</td>\n",
              "      <td>12.000000</td>\n",
              "      <td>4.0</td>\n",
              "      <td>7.0</td>\n",
              "      <td>4.000000</td>\n",
              "      <td>9.0</td>\n",
              "      <td>0.000000</td>\n",
              "      <td>16.000000</td>\n",
              "      <td>...</td>\n",
              "      <td>26135.603443</td>\n",
              "      <td>172273.939349</td>\n",
              "      <td>74515.593674</td>\n",
              "      <td>79555.659907</td>\n",
              "      <td>79230.809864</td>\n",
              "      <td>92047.004360</td>\n",
              "      <td>94829.356066</td>\n",
              "      <td>71789.000000</td>\n",
              "      <td>68354.0</td>\n",
              "      <td>3</td>\n",
              "    </tr>\n",
              "    <tr>\n",
              "      <th>4997</th>\n",
              "      <td>4.0</td>\n",
              "      <td>4.0</td>\n",
              "      <td>2810.0</td>\n",
              "      <td>0.000000</td>\n",
              "      <td>2.0</td>\n",
              "      <td>666.0</td>\n",
              "      <td>0.000000</td>\n",
              "      <td>14.0</td>\n",
              "      <td>9.000000</td>\n",
              "      <td>26.000000</td>\n",
              "      <td>...</td>\n",
              "      <td>-70335.106256</td>\n",
              "      <td>-21680.148668</td>\n",
              "      <td>11900.591113</td>\n",
              "      <td>8015.793354</td>\n",
              "      <td>-105036.351181</td>\n",
              "      <td>-33386.286236</td>\n",
              "      <td>169699.674511</td>\n",
              "      <td>89989.000000</td>\n",
              "      <td>70139.0</td>\n",
              "      <td>2</td>\n",
              "    </tr>\n",
              "    <tr>\n",
              "      <th>4998</th>\n",
              "      <td>3.0</td>\n",
              "      <td>4.0</td>\n",
              "      <td>1587.0</td>\n",
              "      <td>21.000000</td>\n",
              "      <td>7.0</td>\n",
              "      <td>526.0</td>\n",
              "      <td>7.000000</td>\n",
              "      <td>34.0</td>\n",
              "      <td>5.000000</td>\n",
              "      <td>61033.550970</td>\n",
              "      <td>...</td>\n",
              "      <td>-14702.601507</td>\n",
              "      <td>18593.024103</td>\n",
              "      <td>2249.256720</td>\n",
              "      <td>45713.524900</td>\n",
              "      <td>-16239.518388</td>\n",
              "      <td>-78553.054374</td>\n",
              "      <td>-115903.637264</td>\n",
              "      <td>9394.000000</td>\n",
              "      <td>3145.0</td>\n",
              "      <td>9</td>\n",
              "    </tr>\n",
              "  </tbody>\n",
              "</table>\n",
              "<p>4999 rows × 1805 columns</p>\n",
              "</div>\n",
              "      <button class=\"colab-df-convert\" onclick=\"convertToInteractive('df-a14b020b-ddca-43c0-8b33-8527b75be456')\"\n",
              "              title=\"Convert this dataframe to an interactive table.\"\n",
              "              style=\"display:none;\">\n",
              "        \n",
              "  <svg xmlns=\"http://www.w3.org/2000/svg\" height=\"24px\"viewBox=\"0 0 24 24\"\n",
              "       width=\"24px\">\n",
              "    <path d=\"M0 0h24v24H0V0z\" fill=\"none\"/>\n",
              "    <path d=\"M18.56 5.44l.94 2.06.94-2.06 2.06-.94-2.06-.94-.94-2.06-.94 2.06-2.06.94zm-11 1L8.5 8.5l.94-2.06 2.06-.94-2.06-.94L8.5 2.5l-.94 2.06-2.06.94zm10 10l.94 2.06.94-2.06 2.06-.94-2.06-.94-.94-2.06-.94 2.06-2.06.94z\"/><path d=\"M17.41 7.96l-1.37-1.37c-.4-.4-.92-.59-1.43-.59-.52 0-1.04.2-1.43.59L10.3 9.45l-7.72 7.72c-.78.78-.78 2.05 0 2.83L4 21.41c.39.39.9.59 1.41.59.51 0 1.02-.2 1.41-.59l7.78-7.78 2.81-2.81c.8-.78.8-2.07 0-2.86zM5.41 20L4 18.59l7.72-7.72 1.47 1.35L5.41 20z\"/>\n",
              "  </svg>\n",
              "      </button>\n",
              "      \n",
              "  <style>\n",
              "    .colab-df-container {\n",
              "      display:flex;\n",
              "      flex-wrap:wrap;\n",
              "      gap: 12px;\n",
              "    }\n",
              "\n",
              "    .colab-df-convert {\n",
              "      background-color: #E8F0FE;\n",
              "      border: none;\n",
              "      border-radius: 50%;\n",
              "      cursor: pointer;\n",
              "      display: none;\n",
              "      fill: #1967D2;\n",
              "      height: 32px;\n",
              "      padding: 0 0 0 0;\n",
              "      width: 32px;\n",
              "    }\n",
              "\n",
              "    .colab-df-convert:hover {\n",
              "      background-color: #E2EBFA;\n",
              "      box-shadow: 0px 1px 2px rgba(60, 64, 67, 0.3), 0px 1px 3px 1px rgba(60, 64, 67, 0.15);\n",
              "      fill: #174EA6;\n",
              "    }\n",
              "\n",
              "    [theme=dark] .colab-df-convert {\n",
              "      background-color: #3B4455;\n",
              "      fill: #D2E3FC;\n",
              "    }\n",
              "\n",
              "    [theme=dark] .colab-df-convert:hover {\n",
              "      background-color: #434B5C;\n",
              "      box-shadow: 0px 1px 3px 1px rgba(0, 0, 0, 0.15);\n",
              "      filter: drop-shadow(0px 1px 2px rgba(0, 0, 0, 0.3));\n",
              "      fill: #FFFFFF;\n",
              "    }\n",
              "  </style>\n",
              "\n",
              "      <script>\n",
              "        const buttonEl =\n",
              "          document.querySelector('#df-a14b020b-ddca-43c0-8b33-8527b75be456 button.colab-df-convert');\n",
              "        buttonEl.style.display =\n",
              "          google.colab.kernel.accessAllowed ? 'block' : 'none';\n",
              "\n",
              "        async function convertToInteractive(key) {\n",
              "          const element = document.querySelector('#df-a14b020b-ddca-43c0-8b33-8527b75be456');\n",
              "          const dataTable =\n",
              "            await google.colab.kernel.invokeFunction('convertToInteractive',\n",
              "                                                     [key], {});\n",
              "          if (!dataTable) return;\n",
              "\n",
              "          const docLinkHtml = 'Like what you see? Visit the ' +\n",
              "            '<a target=\"_blank\" href=https://colab.research.google.com/notebooks/data_table.ipynb>data table notebook</a>'\n",
              "            + ' to learn more about interactive tables.';\n",
              "          element.innerHTML = '';\n",
              "          dataTable['output_type'] = 'display_data';\n",
              "          await google.colab.output.renderOutput(dataTable, element);\n",
              "          const docLink = document.createElement('div');\n",
              "          docLink.innerHTML = docLinkHtml;\n",
              "          element.appendChild(docLink);\n",
              "        }\n",
              "      </script>\n",
              "    </div>\n",
              "  </div>\n",
              "  "
            ]
          },
          "metadata": {},
          "execution_count": 4
        }
      ],
      "source": [
        "data = pd.read_csv(\"/content/dataset.csv\")\n",
        "data"
      ]
    },
    {
      "cell_type": "markdown",
      "source": [
        "Data set has 4999 rows and 1805 columns in it."
      ],
      "metadata": {
        "id": "ikjiY44tMJdn"
      }
    },
    {
      "cell_type": "markdown",
      "source": [
        "**Data Preprocessing**"
      ],
      "metadata": {
        "id": "pPUyKXGQqjdh"
      }
    },
    {
      "cell_type": "code",
      "execution_count": null,
      "metadata": {
        "colab": {
          "base_uri": "https://localhost:8080/"
        },
        "id": "popkCM2NpgWC",
        "outputId": "d900d201-ee86-43d7-9da0-516b2bbc4c08"
      },
      "outputs": [
        {
          "output_type": "stream",
          "name": "stdout",
          "text": [
            "<class 'pandas.core.frame.DataFrame'>\n",
            "RangeIndex: 4999 entries, 0 to 4998\n",
            "Columns: 1805 entries, Virtual to target\n",
            "dtypes: float64(1804), int64(1)\n",
            "memory usage: 68.8 MB\n"
          ]
        }
      ],
      "source": [
        "data.info()"
      ]
    },
    {
      "cell_type": "markdown",
      "source": [
        "\n",
        "\n",
        "The number of input features are 1804 and 1 target feature.\n",
        "Features belong to the image pixels, bool type, bytes, function hexa code and all columns are numerical values that are float and integer type.\n",
        "Total number of rows is 4999"
      ],
      "metadata": {
        "id": "pkEHbs6fMv9V"
      }
    },
    {
      "cell_type": "code",
      "execution_count": null,
      "metadata": {
        "colab": {
          "base_uri": "https://localhost:8080/",
          "height": 394
        },
        "id": "QOEMjk4DpgWC",
        "outputId": "f187bf97-dce9-43af-853f-2de7832795c0"
      },
      "outputs": [
        {
          "output_type": "execute_result",
          "data": {
            "text/plain": [
              "            Virtual        Offset            loc        Import       Imports  \\\n",
              "count   4999.000000   4999.000000    4999.000000   4999.000000   4999.000000   \n",
              "mean    2413.316145   2659.311487    4424.891220   2291.214822   2512.272757   \n",
              "std    12506.374487  13159.966494   13604.624599  11996.827931  12656.467627   \n",
              "min        0.000000      0.000000       0.000000      0.000000      0.000000   \n",
              "25%        3.000000      3.000000      77.000000      6.000000      4.000000   \n",
              "50%        3.000000      3.000000     526.000000     12.000000      4.000000   \n",
              "75%        4.000000      4.000000    1977.500000     18.000000      7.000000   \n",
              "max    99416.349008  99973.742656  107775.000000  99364.479576  99838.164777   \n",
              "\n",
              "                 var     Forwarder           UINT          LONG          BOOL  \\\n",
              "count    4999.000000   4999.000000    4999.000000   4999.000000   4999.000000   \n",
              "mean     3470.164710   2612.176503    2472.228927   2554.660865   2452.442360   \n",
              "std     12442.838259  13026.935701   12695.076990  12533.327183  12280.398873   \n",
              "min         0.000000      0.000000       0.000000      0.000000      0.000000   \n",
              "25%        37.000000      2.000000       6.000000      0.000000     13.000000   \n",
              "50%       407.000000      4.000000      12.000000      5.000000     20.000000   \n",
              "75%      1330.500000      6.000000      18.000000      9.000000     38.000000   \n",
              "max    100278.830725  99673.225000  100002.864718  99039.014532  99262.954988   \n",
              "\n",
              "       ...          Img99         Img100         Img101         Img102  \\\n",
              "count  ...    4999.000000    4999.000000    4999.000000    4999.000000   \n",
              "mean   ...   14331.213118    9358.953517   23654.548237    8540.786955   \n",
              "std    ...  108685.996366  107161.612891  109735.456647  105281.088434   \n",
              "min    ... -399471.378431 -344924.897141 -348906.065760 -379757.698729   \n",
              "25%    ...  -57945.624535  -63567.620933  -50475.672159  -63194.878910   \n",
              "50%    ...   13494.353190    9797.650967   22385.687582   10410.067259   \n",
              "75%    ...   87246.586847   82454.969088   95044.827729   80084.458079   \n",
              "max    ...  500390.536696  358149.487611  465889.867881  364890.436486   \n",
              "\n",
              "              Img103         Img104         Img105         Img106  \\\n",
              "count    4999.000000    4999.000000    4999.000000    4999.000000   \n",
              "mean    17432.020184   22032.274639    9505.453675   70574.781259   \n",
              "std    107423.247504  109858.578170  106876.987983   67871.038272   \n",
              "min   -345576.170139 -410986.193796 -355679.953652       0.000000   \n",
              "25%    -55114.830841  -50016.264131  -63550.766114   13387.000000   \n",
              "50%     18424.422329   21454.161075    9709.062906   67890.000000   \n",
              "75%     87543.264657   96288.509357   82107.827536   88771.000000   \n",
              "max    389119.972128  443685.869973  437127.690431  412076.355373   \n",
              "\n",
              "              Img107       target  \n",
              "count    4999.000000  4999.000000  \n",
              "mean    54803.742148     4.086817  \n",
              "std     53395.251409     2.677785  \n",
              "min         0.000000     1.000000  \n",
              "25%      8117.000000     2.000000  \n",
              "50%     49865.000000     3.000000  \n",
              "75%     68589.500000     6.000000  \n",
              "max    300241.000000     9.000000  \n",
              "\n",
              "[8 rows x 1805 columns]"
            ],
            "text/html": [
              "\n",
              "  <div id=\"df-b6a37c3a-28a5-4ed2-ad43-e897431db306\">\n",
              "    <div class=\"colab-df-container\">\n",
              "      <div>\n",
              "<style scoped>\n",
              "    .dataframe tbody tr th:only-of-type {\n",
              "        vertical-align: middle;\n",
              "    }\n",
              "\n",
              "    .dataframe tbody tr th {\n",
              "        vertical-align: top;\n",
              "    }\n",
              "\n",
              "    .dataframe thead th {\n",
              "        text-align: right;\n",
              "    }\n",
              "</style>\n",
              "<table border=\"1\" class=\"dataframe\">\n",
              "  <thead>\n",
              "    <tr style=\"text-align: right;\">\n",
              "      <th></th>\n",
              "      <th>Virtual</th>\n",
              "      <th>Offset</th>\n",
              "      <th>loc</th>\n",
              "      <th>Import</th>\n",
              "      <th>Imports</th>\n",
              "      <th>var</th>\n",
              "      <th>Forwarder</th>\n",
              "      <th>UINT</th>\n",
              "      <th>LONG</th>\n",
              "      <th>BOOL</th>\n",
              "      <th>...</th>\n",
              "      <th>Img99</th>\n",
              "      <th>Img100</th>\n",
              "      <th>Img101</th>\n",
              "      <th>Img102</th>\n",
              "      <th>Img103</th>\n",
              "      <th>Img104</th>\n",
              "      <th>Img105</th>\n",
              "      <th>Img106</th>\n",
              "      <th>Img107</th>\n",
              "      <th>target</th>\n",
              "    </tr>\n",
              "  </thead>\n",
              "  <tbody>\n",
              "    <tr>\n",
              "      <th>count</th>\n",
              "      <td>4999.000000</td>\n",
              "      <td>4999.000000</td>\n",
              "      <td>4999.000000</td>\n",
              "      <td>4999.000000</td>\n",
              "      <td>4999.000000</td>\n",
              "      <td>4999.000000</td>\n",
              "      <td>4999.000000</td>\n",
              "      <td>4999.000000</td>\n",
              "      <td>4999.000000</td>\n",
              "      <td>4999.000000</td>\n",
              "      <td>...</td>\n",
              "      <td>4999.000000</td>\n",
              "      <td>4999.000000</td>\n",
              "      <td>4999.000000</td>\n",
              "      <td>4999.000000</td>\n",
              "      <td>4999.000000</td>\n",
              "      <td>4999.000000</td>\n",
              "      <td>4999.000000</td>\n",
              "      <td>4999.000000</td>\n",
              "      <td>4999.000000</td>\n",
              "      <td>4999.000000</td>\n",
              "    </tr>\n",
              "    <tr>\n",
              "      <th>mean</th>\n",
              "      <td>2413.316145</td>\n",
              "      <td>2659.311487</td>\n",
              "      <td>4424.891220</td>\n",
              "      <td>2291.214822</td>\n",
              "      <td>2512.272757</td>\n",
              "      <td>3470.164710</td>\n",
              "      <td>2612.176503</td>\n",
              "      <td>2472.228927</td>\n",
              "      <td>2554.660865</td>\n",
              "      <td>2452.442360</td>\n",
              "      <td>...</td>\n",
              "      <td>14331.213118</td>\n",
              "      <td>9358.953517</td>\n",
              "      <td>23654.548237</td>\n",
              "      <td>8540.786955</td>\n",
              "      <td>17432.020184</td>\n",
              "      <td>22032.274639</td>\n",
              "      <td>9505.453675</td>\n",
              "      <td>70574.781259</td>\n",
              "      <td>54803.742148</td>\n",
              "      <td>4.086817</td>\n",
              "    </tr>\n",
              "    <tr>\n",
              "      <th>std</th>\n",
              "      <td>12506.374487</td>\n",
              "      <td>13159.966494</td>\n",
              "      <td>13604.624599</td>\n",
              "      <td>11996.827931</td>\n",
              "      <td>12656.467627</td>\n",
              "      <td>12442.838259</td>\n",
              "      <td>13026.935701</td>\n",
              "      <td>12695.076990</td>\n",
              "      <td>12533.327183</td>\n",
              "      <td>12280.398873</td>\n",
              "      <td>...</td>\n",
              "      <td>108685.996366</td>\n",
              "      <td>107161.612891</td>\n",
              "      <td>109735.456647</td>\n",
              "      <td>105281.088434</td>\n",
              "      <td>107423.247504</td>\n",
              "      <td>109858.578170</td>\n",
              "      <td>106876.987983</td>\n",
              "      <td>67871.038272</td>\n",
              "      <td>53395.251409</td>\n",
              "      <td>2.677785</td>\n",
              "    </tr>\n",
              "    <tr>\n",
              "      <th>min</th>\n",
              "      <td>0.000000</td>\n",
              "      <td>0.000000</td>\n",
              "      <td>0.000000</td>\n",
              "      <td>0.000000</td>\n",
              "      <td>0.000000</td>\n",
              "      <td>0.000000</td>\n",
              "      <td>0.000000</td>\n",
              "      <td>0.000000</td>\n",
              "      <td>0.000000</td>\n",
              "      <td>0.000000</td>\n",
              "      <td>...</td>\n",
              "      <td>-399471.378431</td>\n",
              "      <td>-344924.897141</td>\n",
              "      <td>-348906.065760</td>\n",
              "      <td>-379757.698729</td>\n",
              "      <td>-345576.170139</td>\n",
              "      <td>-410986.193796</td>\n",
              "      <td>-355679.953652</td>\n",
              "      <td>0.000000</td>\n",
              "      <td>0.000000</td>\n",
              "      <td>1.000000</td>\n",
              "    </tr>\n",
              "    <tr>\n",
              "      <th>25%</th>\n",
              "      <td>3.000000</td>\n",
              "      <td>3.000000</td>\n",
              "      <td>77.000000</td>\n",
              "      <td>6.000000</td>\n",
              "      <td>4.000000</td>\n",
              "      <td>37.000000</td>\n",
              "      <td>2.000000</td>\n",
              "      <td>6.000000</td>\n",
              "      <td>0.000000</td>\n",
              "      <td>13.000000</td>\n",
              "      <td>...</td>\n",
              "      <td>-57945.624535</td>\n",
              "      <td>-63567.620933</td>\n",
              "      <td>-50475.672159</td>\n",
              "      <td>-63194.878910</td>\n",
              "      <td>-55114.830841</td>\n",
              "      <td>-50016.264131</td>\n",
              "      <td>-63550.766114</td>\n",
              "      <td>13387.000000</td>\n",
              "      <td>8117.000000</td>\n",
              "      <td>2.000000</td>\n",
              "    </tr>\n",
              "    <tr>\n",
              "      <th>50%</th>\n",
              "      <td>3.000000</td>\n",
              "      <td>3.000000</td>\n",
              "      <td>526.000000</td>\n",
              "      <td>12.000000</td>\n",
              "      <td>4.000000</td>\n",
              "      <td>407.000000</td>\n",
              "      <td>4.000000</td>\n",
              "      <td>12.000000</td>\n",
              "      <td>5.000000</td>\n",
              "      <td>20.000000</td>\n",
              "      <td>...</td>\n",
              "      <td>13494.353190</td>\n",
              "      <td>9797.650967</td>\n",
              "      <td>22385.687582</td>\n",
              "      <td>10410.067259</td>\n",
              "      <td>18424.422329</td>\n",
              "      <td>21454.161075</td>\n",
              "      <td>9709.062906</td>\n",
              "      <td>67890.000000</td>\n",
              "      <td>49865.000000</td>\n",
              "      <td>3.000000</td>\n",
              "    </tr>\n",
              "    <tr>\n",
              "      <th>75%</th>\n",
              "      <td>4.000000</td>\n",
              "      <td>4.000000</td>\n",
              "      <td>1977.500000</td>\n",
              "      <td>18.000000</td>\n",
              "      <td>7.000000</td>\n",
              "      <td>1330.500000</td>\n",
              "      <td>6.000000</td>\n",
              "      <td>18.000000</td>\n",
              "      <td>9.000000</td>\n",
              "      <td>38.000000</td>\n",
              "      <td>...</td>\n",
              "      <td>87246.586847</td>\n",
              "      <td>82454.969088</td>\n",
              "      <td>95044.827729</td>\n",
              "      <td>80084.458079</td>\n",
              "      <td>87543.264657</td>\n",
              "      <td>96288.509357</td>\n",
              "      <td>82107.827536</td>\n",
              "      <td>88771.000000</td>\n",
              "      <td>68589.500000</td>\n",
              "      <td>6.000000</td>\n",
              "    </tr>\n",
              "    <tr>\n",
              "      <th>max</th>\n",
              "      <td>99416.349008</td>\n",
              "      <td>99973.742656</td>\n",
              "      <td>107775.000000</td>\n",
              "      <td>99364.479576</td>\n",
              "      <td>99838.164777</td>\n",
              "      <td>100278.830725</td>\n",
              "      <td>99673.225000</td>\n",
              "      <td>100002.864718</td>\n",
              "      <td>99039.014532</td>\n",
              "      <td>99262.954988</td>\n",
              "      <td>...</td>\n",
              "      <td>500390.536696</td>\n",
              "      <td>358149.487611</td>\n",
              "      <td>465889.867881</td>\n",
              "      <td>364890.436486</td>\n",
              "      <td>389119.972128</td>\n",
              "      <td>443685.869973</td>\n",
              "      <td>437127.690431</td>\n",
              "      <td>412076.355373</td>\n",
              "      <td>300241.000000</td>\n",
              "      <td>9.000000</td>\n",
              "    </tr>\n",
              "  </tbody>\n",
              "</table>\n",
              "<p>8 rows × 1805 columns</p>\n",
              "</div>\n",
              "      <button class=\"colab-df-convert\" onclick=\"convertToInteractive('df-b6a37c3a-28a5-4ed2-ad43-e897431db306')\"\n",
              "              title=\"Convert this dataframe to an interactive table.\"\n",
              "              style=\"display:none;\">\n",
              "        \n",
              "  <svg xmlns=\"http://www.w3.org/2000/svg\" height=\"24px\"viewBox=\"0 0 24 24\"\n",
              "       width=\"24px\">\n",
              "    <path d=\"M0 0h24v24H0V0z\" fill=\"none\"/>\n",
              "    <path d=\"M18.56 5.44l.94 2.06.94-2.06 2.06-.94-2.06-.94-.94-2.06-.94 2.06-2.06.94zm-11 1L8.5 8.5l.94-2.06 2.06-.94-2.06-.94L8.5 2.5l-.94 2.06-2.06.94zm10 10l.94 2.06.94-2.06 2.06-.94-2.06-.94-.94-2.06-.94 2.06-2.06.94z\"/><path d=\"M17.41 7.96l-1.37-1.37c-.4-.4-.92-.59-1.43-.59-.52 0-1.04.2-1.43.59L10.3 9.45l-7.72 7.72c-.78.78-.78 2.05 0 2.83L4 21.41c.39.39.9.59 1.41.59.51 0 1.02-.2 1.41-.59l7.78-7.78 2.81-2.81c.8-.78.8-2.07 0-2.86zM5.41 20L4 18.59l7.72-7.72 1.47 1.35L5.41 20z\"/>\n",
              "  </svg>\n",
              "      </button>\n",
              "      \n",
              "  <style>\n",
              "    .colab-df-container {\n",
              "      display:flex;\n",
              "      flex-wrap:wrap;\n",
              "      gap: 12px;\n",
              "    }\n",
              "\n",
              "    .colab-df-convert {\n",
              "      background-color: #E8F0FE;\n",
              "      border: none;\n",
              "      border-radius: 50%;\n",
              "      cursor: pointer;\n",
              "      display: none;\n",
              "      fill: #1967D2;\n",
              "      height: 32px;\n",
              "      padding: 0 0 0 0;\n",
              "      width: 32px;\n",
              "    }\n",
              "\n",
              "    .colab-df-convert:hover {\n",
              "      background-color: #E2EBFA;\n",
              "      box-shadow: 0px 1px 2px rgba(60, 64, 67, 0.3), 0px 1px 3px 1px rgba(60, 64, 67, 0.15);\n",
              "      fill: #174EA6;\n",
              "    }\n",
              "\n",
              "    [theme=dark] .colab-df-convert {\n",
              "      background-color: #3B4455;\n",
              "      fill: #D2E3FC;\n",
              "    }\n",
              "\n",
              "    [theme=dark] .colab-df-convert:hover {\n",
              "      background-color: #434B5C;\n",
              "      box-shadow: 0px 1px 3px 1px rgba(0, 0, 0, 0.15);\n",
              "      filter: drop-shadow(0px 1px 2px rgba(0, 0, 0, 0.3));\n",
              "      fill: #FFFFFF;\n",
              "    }\n",
              "  </style>\n",
              "\n",
              "      <script>\n",
              "        const buttonEl =\n",
              "          document.querySelector('#df-b6a37c3a-28a5-4ed2-ad43-e897431db306 button.colab-df-convert');\n",
              "        buttonEl.style.display =\n",
              "          google.colab.kernel.accessAllowed ? 'block' : 'none';\n",
              "\n",
              "        async function convertToInteractive(key) {\n",
              "          const element = document.querySelector('#df-b6a37c3a-28a5-4ed2-ad43-e897431db306');\n",
              "          const dataTable =\n",
              "            await google.colab.kernel.invokeFunction('convertToInteractive',\n",
              "                                                     [key], {});\n",
              "          if (!dataTable) return;\n",
              "\n",
              "          const docLinkHtml = 'Like what you see? Visit the ' +\n",
              "            '<a target=\"_blank\" href=https://colab.research.google.com/notebooks/data_table.ipynb>data table notebook</a>'\n",
              "            + ' to learn more about interactive tables.';\n",
              "          element.innerHTML = '';\n",
              "          dataTable['output_type'] = 'display_data';\n",
              "          await google.colab.output.renderOutput(dataTable, element);\n",
              "          const docLink = document.createElement('div');\n",
              "          docLink.innerHTML = docLinkHtml;\n",
              "          element.appendChild(docLink);\n",
              "        }\n",
              "      </script>\n",
              "    </div>\n",
              "  </div>\n",
              "  "
            ]
          },
          "metadata": {},
          "execution_count": 6
        }
      ],
      "source": [
        "data.describe()"
      ]
    },
    {
      "cell_type": "markdown",
      "source": [
        "It gives the description of the all the statistical analysis of the numerical features in the dataframe"
      ],
      "metadata": {
        "id": "9vZAdKtYNoPa"
      }
    },
    {
      "cell_type": "code",
      "execution_count": null,
      "metadata": {
        "colab": {
          "base_uri": "https://localhost:8080/"
        },
        "id": "Yf2Jon7GpgWD",
        "outputId": "4321cae0-a28d-41ce-c276-1aeea9bb4018"
      },
      "outputs": [
        {
          "output_type": "execute_result",
          "data": {
            "text/plain": [
              "Virtual     254\n",
              "Offset      281\n",
              "loc        2084\n",
              "Import      285\n",
              "Imports     270\n",
              "           ... \n",
              "Img104     4999\n",
              "Img105     4999\n",
              "Img106     4267\n",
              "Img107     4130\n",
              "target        9\n",
              "Length: 1805, dtype: int64"
            ]
          },
          "metadata": {},
          "execution_count": 7
        }
      ],
      "source": [
        "data.nunique()"
      ]
    },
    {
      "cell_type": "markdown",
      "source": [
        "This shows the number of unique values in each column of dataframe"
      ],
      "metadata": {
        "id": "aflZYDqoNh5q"
      }
    },
    {
      "cell_type": "code",
      "execution_count": null,
      "metadata": {
        "colab": {
          "base_uri": "https://localhost:8080/",
          "height": 123
        },
        "id": "LcPX0lIipgWD",
        "outputId": "fb60b27d-8be1-4f8c-d6bc-9c069a5a6096"
      },
      "outputs": [
        {
          "output_type": "execute_result",
          "data": {
            "text/plain": [
              "Empty DataFrame\n",
              "Columns: [Virtual, Offset, loc, Import, Imports, var, Forwarder, UINT, LONG, BOOL, WORD, BYTES, large, short, dd, db, dw, XREF, ptr, DATA, FUNCTION, extrn, byte, word, dword, char, DWORD, stdcall, arg, locret, asc, align, WinMain, unk, cookie, off, nullsub, DllEntryPoint, System32, dll, CHUNK, BASS, HMENU, DLL, LPWSTR, void, HRESULT, HDC, LRESULT, HANDLE, HWND, LPSTR, int, HLOCAL, FARPROC, ATOM, HMODULE, WPARAM, HGLOBAL, entry, rva, COLLAPSED, config, exe, Software, CurrentVersion, __imp_, INT_PTR, UINT_PTR, ---Seperator, PCCTL_CONTEXT, __IMPORT_, INTERNET_STATUS_CALLBACK, .rdata:, .data:, .text:, misc_case, misc_installdir, misc_market, misc_microsoft, misc_policies, misc_proc, misc_scrollwindow, misc_search, misc_trap, misc_visualc, misc1____security_cookie, misc1_assume, misc1_callvirtualalloc, misc1_exportedentry, misc1_hardware, misc1_hkey_current_user, misc1_hkey_local_machine, misc1_sp-analysisfailed, misc1_unableto, ent_q_diffs_0, ent_q_diffs_1, ent_q_diffs_2, ent_q_diffs_3, ent_q_diffs_4, ...]\n",
              "Index: []\n",
              "\n",
              "[0 rows x 1805 columns]"
            ],
            "text/html": [
              "\n",
              "  <div id=\"df-6dd8559b-de28-4ce1-bf6a-5cdd09f6bdf0\">\n",
              "    <div class=\"colab-df-container\">\n",
              "      <div>\n",
              "<style scoped>\n",
              "    .dataframe tbody tr th:only-of-type {\n",
              "        vertical-align: middle;\n",
              "    }\n",
              "\n",
              "    .dataframe tbody tr th {\n",
              "        vertical-align: top;\n",
              "    }\n",
              "\n",
              "    .dataframe thead th {\n",
              "        text-align: right;\n",
              "    }\n",
              "</style>\n",
              "<table border=\"1\" class=\"dataframe\">\n",
              "  <thead>\n",
              "    <tr style=\"text-align: right;\">\n",
              "      <th></th>\n",
              "      <th>Virtual</th>\n",
              "      <th>Offset</th>\n",
              "      <th>loc</th>\n",
              "      <th>Import</th>\n",
              "      <th>Imports</th>\n",
              "      <th>var</th>\n",
              "      <th>Forwarder</th>\n",
              "      <th>UINT</th>\n",
              "      <th>LONG</th>\n",
              "      <th>BOOL</th>\n",
              "      <th>...</th>\n",
              "      <th>Img99</th>\n",
              "      <th>Img100</th>\n",
              "      <th>Img101</th>\n",
              "      <th>Img102</th>\n",
              "      <th>Img103</th>\n",
              "      <th>Img104</th>\n",
              "      <th>Img105</th>\n",
              "      <th>Img106</th>\n",
              "      <th>Img107</th>\n",
              "      <th>target</th>\n",
              "    </tr>\n",
              "  </thead>\n",
              "  <tbody>\n",
              "  </tbody>\n",
              "</table>\n",
              "<p>0 rows × 1805 columns</p>\n",
              "</div>\n",
              "      <button class=\"colab-df-convert\" onclick=\"convertToInteractive('df-6dd8559b-de28-4ce1-bf6a-5cdd09f6bdf0')\"\n",
              "              title=\"Convert this dataframe to an interactive table.\"\n",
              "              style=\"display:none;\">\n",
              "        \n",
              "  <svg xmlns=\"http://www.w3.org/2000/svg\" height=\"24px\"viewBox=\"0 0 24 24\"\n",
              "       width=\"24px\">\n",
              "    <path d=\"M0 0h24v24H0V0z\" fill=\"none\"/>\n",
              "    <path d=\"M18.56 5.44l.94 2.06.94-2.06 2.06-.94-2.06-.94-.94-2.06-.94 2.06-2.06.94zm-11 1L8.5 8.5l.94-2.06 2.06-.94-2.06-.94L8.5 2.5l-.94 2.06-2.06.94zm10 10l.94 2.06.94-2.06 2.06-.94-2.06-.94-.94-2.06-.94 2.06-2.06.94z\"/><path d=\"M17.41 7.96l-1.37-1.37c-.4-.4-.92-.59-1.43-.59-.52 0-1.04.2-1.43.59L10.3 9.45l-7.72 7.72c-.78.78-.78 2.05 0 2.83L4 21.41c.39.39.9.59 1.41.59.51 0 1.02-.2 1.41-.59l7.78-7.78 2.81-2.81c.8-.78.8-2.07 0-2.86zM5.41 20L4 18.59l7.72-7.72 1.47 1.35L5.41 20z\"/>\n",
              "  </svg>\n",
              "      </button>\n",
              "      \n",
              "  <style>\n",
              "    .colab-df-container {\n",
              "      display:flex;\n",
              "      flex-wrap:wrap;\n",
              "      gap: 12px;\n",
              "    }\n",
              "\n",
              "    .colab-df-convert {\n",
              "      background-color: #E8F0FE;\n",
              "      border: none;\n",
              "      border-radius: 50%;\n",
              "      cursor: pointer;\n",
              "      display: none;\n",
              "      fill: #1967D2;\n",
              "      height: 32px;\n",
              "      padding: 0 0 0 0;\n",
              "      width: 32px;\n",
              "    }\n",
              "\n",
              "    .colab-df-convert:hover {\n",
              "      background-color: #E2EBFA;\n",
              "      box-shadow: 0px 1px 2px rgba(60, 64, 67, 0.3), 0px 1px 3px 1px rgba(60, 64, 67, 0.15);\n",
              "      fill: #174EA6;\n",
              "    }\n",
              "\n",
              "    [theme=dark] .colab-df-convert {\n",
              "      background-color: #3B4455;\n",
              "      fill: #D2E3FC;\n",
              "    }\n",
              "\n",
              "    [theme=dark] .colab-df-convert:hover {\n",
              "      background-color: #434B5C;\n",
              "      box-shadow: 0px 1px 3px 1px rgba(0, 0, 0, 0.15);\n",
              "      filter: drop-shadow(0px 1px 2px rgba(0, 0, 0, 0.3));\n",
              "      fill: #FFFFFF;\n",
              "    }\n",
              "  </style>\n",
              "\n",
              "      <script>\n",
              "        const buttonEl =\n",
              "          document.querySelector('#df-6dd8559b-de28-4ce1-bf6a-5cdd09f6bdf0 button.colab-df-convert');\n",
              "        buttonEl.style.display =\n",
              "          google.colab.kernel.accessAllowed ? 'block' : 'none';\n",
              "\n",
              "        async function convertToInteractive(key) {\n",
              "          const element = document.querySelector('#df-6dd8559b-de28-4ce1-bf6a-5cdd09f6bdf0');\n",
              "          const dataTable =\n",
              "            await google.colab.kernel.invokeFunction('convertToInteractive',\n",
              "                                                     [key], {});\n",
              "          if (!dataTable) return;\n",
              "\n",
              "          const docLinkHtml = 'Like what you see? Visit the ' +\n",
              "            '<a target=\"_blank\" href=https://colab.research.google.com/notebooks/data_table.ipynb>data table notebook</a>'\n",
              "            + ' to learn more about interactive tables.';\n",
              "          element.innerHTML = '';\n",
              "          dataTable['output_type'] = 'display_data';\n",
              "          await google.colab.output.renderOutput(dataTable, element);\n",
              "          const docLink = document.createElement('div');\n",
              "          docLink.innerHTML = docLinkHtml;\n",
              "          element.appendChild(docLink);\n",
              "        }\n",
              "      </script>\n",
              "    </div>\n",
              "  </div>\n",
              "  "
            ]
          },
          "metadata": {},
          "execution_count": 10
        }
      ],
      "source": [
        "data[data.duplicated()]"
      ]
    },
    {
      "cell_type": "markdown",
      "source": [
        "This function shows the number of duplicate values in the dataframe and returns false for no duplicates and true for duplicated values. This dataset has no duplicate values in it."
      ],
      "metadata": {
        "id": "RTrzycG8ONXH"
      }
    },
    {
      "cell_type": "code",
      "execution_count": null,
      "metadata": {
        "colab": {
          "base_uri": "https://localhost:8080/"
        },
        "id": "OzQ7_aRMpgWD",
        "outputId": "063fd2b7-9d8b-4351-baeb-5e7a204531aa"
      },
      "outputs": [
        {
          "output_type": "execute_result",
          "data": {
            "text/plain": [
              "Virtual    0\n",
              "Offset     0\n",
              "loc        0\n",
              "Import     0\n",
              "Imports    0\n",
              "          ..\n",
              "Img104     0\n",
              "Img105     0\n",
              "Img106     0\n",
              "Img107     0\n",
              "target     0\n",
              "Length: 1805, dtype: int64"
            ]
          },
          "metadata": {},
          "execution_count": 9
        }
      ],
      "source": [
        "data.isna().sum()"
      ]
    },
    {
      "cell_type": "markdown",
      "source": [
        "It gives number of null values in each column and for our dataset, there are no null values.\n",
        "\n",
        "\n"
      ],
      "metadata": {
        "id": "9_At5COnOZqs"
      }
    },
    {
      "cell_type": "markdown",
      "metadata": {
        "id": "pfuU8bnNpgWE"
      },
      "source": [
        "#Visualizing the distribution of virus in the dataset"
      ]
    },
    {
      "cell_type": "markdown",
      "metadata": {
        "id": "Hwgln-hcpgWE"
      },
      "source": [
        "Distribution graph:\n",
        "\n",
        "The type3 virus attacks are higher in occurance than any other virus attacks.\n",
        "\n",
        "The least occuring virus attack is type5."
      ]
    },
    {
      "cell_type": "code",
      "execution_count": null,
      "metadata": {
        "colab": {
          "base_uri": "https://localhost:8080/",
          "height": 387
        },
        "id": "lomIhDX3pgWE",
        "outputId": "7a3a64cb-7eaa-4f8c-cd41-10f1b226e931"
      },
      "outputs": [
        {
          "output_type": "execute_result",
          "data": {
            "text/plain": [
              "<seaborn.axisgrid.FacetGrid at 0x7fe0e879e650>"
            ]
          },
          "metadata": {},
          "execution_count": 11
        },
        {
          "output_type": "display_data",
          "data": {
            "text/plain": [
              "<Figure size 360x360 with 1 Axes>"
            ],
            "image/png": "[encoded data removed]"
          },
          "metadata": {
            "needs_background": "light"
          }
        }
      ],
      "source": [
        "sns.displot(data['target'])"
      ]
    },
    {
      "cell_type": "markdown",
      "metadata": {
        "id": "Y0SSOsRJpgWE"
      },
      "source": [
        "Violin plot:\n",
        "\n",
        "\n",
        "The distribution of virus attacks in the graph, how different virus attacks are occuring at different frequency.\n"
      ]
    },
    {
      "cell_type": "code",
      "execution_count": null,
      "metadata": {
        "colab": {
          "base_uri": "https://localhost:8080/",
          "height": 336
        },
        "id": "MCELKip6pgWE",
        "outputId": "9bc0e8df-8e94-4db3-f33b-cd46a7b8f55d"
      },
      "outputs": [
        {
          "output_type": "display_data",
          "data": {
            "text/plain": [
              "<Figure size 432x288 with 1 Axes>"
            ],
            "image/png": "[encoded data removed]"
          },
          "metadata": {
            "needs_background": "light"
          }
        }
      ],
      "source": [
        "# Create a figure instance\n",
        "fig = plt.figure()\n",
        "\n",
        "# Create an axes instance\n",
        "ax = fig.add_axes([0,0,1,1])\n",
        "\n",
        "# Create the boxplot\n",
        "bp = ax.violinplot(data[\"target\"])\n",
        "plt.show()"
      ]
    },
    {
      "cell_type": "markdown",
      "metadata": {
        "id": "13E49-mopgWF"
      },
      "source": [
        "Scatter plot:\n",
        "\n",
        "The relation between feature Img99 & feature target is direct relation between  2 features."
      ]
    },
    {
      "cell_type": "code",
      "execution_count": null,
      "metadata": {
        "colab": {
          "base_uri": "https://localhost:8080/",
          "height": 265
        },
        "id": "uAVh77WopgWF",
        "outputId": "e335c485-d7fc-44e8-d9ee-8c49ebd894c7"
      },
      "outputs": [
        {
          "output_type": "display_data",
          "data": {
            "text/plain": [
              "<Figure size 432x288 with 1 Axes>"
            ],
            "image/png": "[encoded data removed]"
          },
          "metadata": {
            "needs_background": "light"
          }
        }
      ],
      "source": [
        "plt.scatter(data.Img99,data.target)\n",
        "plt.show()"
      ]
    },
    {
      "cell_type": "markdown",
      "metadata": {
        "id": "xRNlwkKVpgWF"
      },
      "source": [
        "Count plot:\n",
        "\n",
        "This plot is showing me the total counts of the different virus types attacking the computer."
      ]
    },
    {
      "cell_type": "code",
      "execution_count": null,
      "metadata": {
        "colab": {
          "base_uri": "https://localhost:8080/",
          "height": 338
        },
        "id": "pZVOefGqpgWF",
        "outputId": "60e73e06-ae4d-4e0c-dabe-ae12f78f1324"
      },
      "outputs": [
        {
          "output_type": "stream",
          "name": "stderr",
          "text": [
            "/usr/local/lib/python3.7/dist-packages/seaborn/_decorators.py:43: FutureWarning: Pass the following variable as a keyword arg: x. From version 0.12, the only valid positional argument will be `data`, and passing other arguments without an explicit keyword will result in an error or misinterpretation.\n",
            "  FutureWarning\n"
          ]
        },
        {
          "output_type": "display_data",
          "data": {
            "text/plain": [
              "<Figure size 432x288 with 1 Axes>"
            ],
            "image/png": "[encoded data removed]"
          },
          "metadata": {
            "needs_background": "light"
          }
        }
      ],
      "source": [
        "sns.countplot(data['target'])\n",
        "plt.show()"
      ]
    },
    {
      "cell_type": "code",
      "source": [
        "target_percentage_effect = data['target'].value_counts().reset_index().sort_values('index')\n",
        "\n",
        "plt.figure(figsize=(9,7))\n",
        "plt.pie(list(target_percentage_effect['target'].values), \n",
        "        autopct = \"%.1f%%\", startangle=90)\n",
        "plt.title('Virus Attack Spread Percentage ')\n",
        "plt.show()"
      ],
      "metadata": {
        "colab": {
          "base_uri": "https://localhost:8080/",
          "height": 427
        },
        "id": "D4YOuH2LQ2A4",
        "outputId": "979f3cfa-9859-4616-bfad-a73e284dac01"
      },
      "execution_count": null,
      "outputs": [
        {
          "output_type": "display_data",
          "data": {
            "text/plain": [
              "<Figure size 648x504 with 1 Axes>"
            ],
            "image/png": "[encoded data removed]"
          },
          "metadata": {}
        }
      ]
    },
    {
      "cell_type": "markdown",
      "source": [
        "The highest percentage of attack is for virus of type 3 with 26.9% and least is for virus of type 5 with 1.4%"
      ],
      "metadata": {
        "id": "t2G5Q0NGTX6-"
      }
    },
    {
      "cell_type": "markdown",
      "metadata": {
        "id": "RPEp9XZIpgWG"
      },
      "source": [
        "### Data sampling"
      ]
    },
    {
      "cell_type": "code",
      "execution_count": null,
      "metadata": {
        "colab": {
          "base_uri": "https://localhost:8080/"
        },
        "id": "OOZY405RpgWG",
        "outputId": "36b294b9-48ca-425e-ed3a-1b5d761c8b91"
      },
      "outputs": [
        {
          "output_type": "stream",
          "name": "stdout",
          "text": [
            "(4999, 1804) (4999, 1)\n"
          ]
        }
      ],
      "source": [
        "# input sample\n",
        "X = data.drop(columns=\"target\")\n",
        "# output sample\n",
        "y = pd.DataFrame(data.target)\n",
        "\n",
        "print(np.shape(X), np.shape(y))"
      ]
    },
    {
      "cell_type": "markdown",
      "source": [
        "Data is sampled and is split as features and target that are taken as input and output samples"
      ],
      "metadata": {
        "id": "IIlGtxquTxcV"
      }
    },
    {
      "cell_type": "markdown",
      "metadata": {
        "id": "86EWTuh0pgWG"
      },
      "source": [
        "### Data Normalization:\n",
        "Helps in Reducing redundant data and provides data consistency within the dataset.\n",
        "\n",
        "Better and quicker execution."
      ]
    },
    {
      "cell_type": "code",
      "execution_count": null,
      "metadata": {
        "colab": {
          "base_uri": "https://localhost:8080/"
        },
        "id": "IlAqaHTfpgWG",
        "outputId": "bc6f6f0a-681b-47bc-c4ad-65560a5ee5f8"
      },
      "outputs": [
        {
          "output_type": "stream",
          "name": "stdout",
          "text": [
            "(4999, 1804)\n"
          ]
        }
      ],
      "source": [
        "# Normaliser for Inputs\n",
        "xscale = StandardScaler()\n",
        "xscale.fit(X.values)\n",
        "print(X.values.shape)\n",
        "X_trans = xscale.transform(X.values)"
      ]
    },
    {
      "cell_type": "markdown",
      "source": [
        "Now I am going to run different algorithms to check for accuracy on the whole data set"
      ],
      "metadata": {
        "id": "87PPs7zVUUQP"
      }
    },
    {
      "cell_type": "markdown",
      "metadata": {
        "id": "SoKg-iIapgWG"
      },
      "source": [
        "## 1. Random Forest\n"
      ]
    },
    {
      "cell_type": "code",
      "execution_count": null,
      "metadata": {
        "id": "zrr_iG3LpgWH"
      },
      "outputs": [],
      "source": [
        "X_train, X_test, y_train, y_test = train_test_split(X_trans, y, test_size=0.4, random_state=0)"
      ]
    },
    {
      "cell_type": "markdown",
      "source": [
        "I am splitting the virus data into train/test data sets with 40% reserved for testing"
      ],
      "metadata": {
        "id": "seSHNc67bq07"
      }
    },
    {
      "cell_type": "markdown",
      "metadata": {
        "id": "wHX_SxYRpgWH"
      },
      "source": [
        "Hyperparameter tuning:"
      ]
    },
    {
      "cell_type": "code",
      "execution_count": null,
      "metadata": {
        "colab": {
          "base_uri": "https://localhost:8080/"
        },
        "id": "RkMyOf5ApgWH",
        "outputId": "5d579364-4a99-4c0a-f901-a82b17eeced0"
      },
      "outputs": [
        {
          "output_type": "stream",
          "name": "stderr",
          "text": [
            "/usr/local/lib/python3.7/dist-packages/sklearn/model_selection/_validation.py:680: DataConversionWarning: A column-vector y was passed when a 1d array was expected. Please change the shape of y to (n_samples,), for example using ravel().\n",
            "  estimator.fit(X_train, y_train, **fit_params)\n",
            "/usr/local/lib/python3.7/dist-packages/sklearn/model_selection/_validation.py:680: DataConversionWarning: A column-vector y was passed when a 1d array was expected. Please change the shape of y to (n_samples,), for example using ravel().\n",
            "  estimator.fit(X_train, y_train, **fit_params)\n",
            "/usr/local/lib/python3.7/dist-packages/sklearn/model_selection/_validation.py:680: DataConversionWarning: A column-vector y was passed when a 1d array was expected. Please change the shape of y to (n_samples,), for example using ravel().\n",
            "  estimator.fit(X_train, y_train, **fit_params)\n",
            "/usr/local/lib/python3.7/dist-packages/sklearn/model_selection/_validation.py:680: DataConversionWarning: A column-vector y was passed when a 1d array was expected. Please change the shape of y to (n_samples,), for example using ravel().\n",
            "  estimator.fit(X_train, y_train, **fit_params)\n",
            "/usr/local/lib/python3.7/dist-packages/sklearn/model_selection/_validation.py:680: DataConversionWarning: A column-vector y was passed when a 1d array was expected. Please change the shape of y to (n_samples,), for example using ravel().\n",
            "  estimator.fit(X_train, y_train, **fit_params)\n",
            "/usr/local/lib/python3.7/dist-packages/sklearn/model_selection/_validation.py:680: DataConversionWarning: A column-vector y was passed when a 1d array was expected. Please change the shape of y to (n_samples,), for example using ravel().\n",
            "  estimator.fit(X_train, y_train, **fit_params)\n",
            "/usr/local/lib/python3.7/dist-packages/sklearn/model_selection/_validation.py:680: DataConversionWarning: A column-vector y was passed when a 1d array was expected. Please change the shape of y to (n_samples,), for example using ravel().\n",
            "  estimator.fit(X_train, y_train, **fit_params)\n",
            "/usr/local/lib/python3.7/dist-packages/sklearn/model_selection/_validation.py:680: DataConversionWarning: A column-vector y was passed when a 1d array was expected. Please change the shape of y to (n_samples,), for example using ravel().\n",
            "  estimator.fit(X_train, y_train, **fit_params)\n",
            "/usr/local/lib/python3.7/dist-packages/sklearn/model_selection/_validation.py:680: DataConversionWarning: A column-vector y was passed when a 1d array was expected. Please change the shape of y to (n_samples,), for example using ravel().\n",
            "  estimator.fit(X_train, y_train, **fit_params)\n",
            "/usr/local/lib/python3.7/dist-packages/sklearn/model_selection/_validation.py:680: DataConversionWarning: A column-vector y was passed when a 1d array was expected. Please change the shape of y to (n_samples,), for example using ravel().\n",
            "  estimator.fit(X_train, y_train, **fit_params)\n",
            "/usr/local/lib/python3.7/dist-packages/sklearn/model_selection/_validation.py:680: DataConversionWarning: A column-vector y was passed when a 1d array was expected. Please change the shape of y to (n_samples,), for example using ravel().\n",
            "  estimator.fit(X_train, y_train, **fit_params)\n",
            "/usr/local/lib/python3.7/dist-packages/sklearn/model_selection/_validation.py:680: DataConversionWarning: A column-vector y was passed when a 1d array was expected. Please change the shape of y to (n_samples,), for example using ravel().\n",
            "  estimator.fit(X_train, y_train, **fit_params)\n",
            "/usr/local/lib/python3.7/dist-packages/sklearn/model_selection/_validation.py:680: DataConversionWarning: A column-vector y was passed when a 1d array was expected. Please change the shape of y to (n_samples,), for example using ravel().\n",
            "  estimator.fit(X_train, y_train, **fit_params)\n",
            "/usr/local/lib/python3.7/dist-packages/sklearn/model_selection/_validation.py:680: DataConversionWarning: A column-vector y was passed when a 1d array was expected. Please change the shape of y to (n_samples,), for example using ravel().\n",
            "  estimator.fit(X_train, y_train, **fit_params)\n",
            "/usr/local/lib/python3.7/dist-packages/sklearn/model_selection/_validation.py:680: DataConversionWarning: A column-vector y was passed when a 1d array was expected. Please change the shape of y to (n_samples,), for example using ravel().\n",
            "  estimator.fit(X_train, y_train, **fit_params)\n",
            "/usr/local/lib/python3.7/dist-packages/sklearn/model_selection/_validation.py:680: DataConversionWarning: A column-vector y was passed when a 1d array was expected. Please change the shape of y to (n_samples,), for example using ravel().\n",
            "  estimator.fit(X_train, y_train, **fit_params)\n",
            "/usr/local/lib/python3.7/dist-packages/sklearn/model_selection/_validation.py:680: DataConversionWarning: A column-vector y was passed when a 1d array was expected. Please change the shape of y to (n_samples,), for example using ravel().\n",
            "  estimator.fit(X_train, y_train, **fit_params)\n",
            "/usr/local/lib/python3.7/dist-packages/sklearn/model_selection/_validation.py:680: DataConversionWarning: A column-vector y was passed when a 1d array was expected. Please change the shape of y to (n_samples,), for example using ravel().\n",
            "  estimator.fit(X_train, y_train, **fit_params)\n",
            "/usr/local/lib/python3.7/dist-packages/sklearn/model_selection/_validation.py:680: DataConversionWarning: A column-vector y was passed when a 1d array was expected. Please change the shape of y to (n_samples,), for example using ravel().\n",
            "  estimator.fit(X_train, y_train, **fit_params)\n",
            "/usr/local/lib/python3.7/dist-packages/sklearn/model_selection/_validation.py:680: DataConversionWarning: A column-vector y was passed when a 1d array was expected. Please change the shape of y to (n_samples,), for example using ravel().\n",
            "  estimator.fit(X_train, y_train, **fit_params)\n",
            "/usr/local/lib/python3.7/dist-packages/sklearn/model_selection/_validation.py:680: DataConversionWarning: A column-vector y was passed when a 1d array was expected. Please change the shape of y to (n_samples,), for example using ravel().\n",
            "  estimator.fit(X_train, y_train, **fit_params)\n",
            "/usr/local/lib/python3.7/dist-packages/sklearn/model_selection/_validation.py:680: DataConversionWarning: A column-vector y was passed when a 1d array was expected. Please change the shape of y to (n_samples,), for example using ravel().\n",
            "  estimator.fit(X_train, y_train, **fit_params)\n",
            "/usr/local/lib/python3.7/dist-packages/sklearn/model_selection/_validation.py:680: DataConversionWarning: A column-vector y was passed when a 1d array was expected. Please change the shape of y to (n_samples,), for example using ravel().\n",
            "  estimator.fit(X_train, y_train, **fit_params)\n",
            "/usr/local/lib/python3.7/dist-packages/sklearn/model_selection/_validation.py:680: DataConversionWarning: A column-vector y was passed when a 1d array was expected. Please change the shape of y to (n_samples,), for example using ravel().\n",
            "  estimator.fit(X_train, y_train, **fit_params)\n",
            "/usr/local/lib/python3.7/dist-packages/sklearn/model_selection/_validation.py:680: DataConversionWarning: A column-vector y was passed when a 1d array was expected. Please change the shape of y to (n_samples,), for example using ravel().\n",
            "  estimator.fit(X_train, y_train, **fit_params)\n",
            "/usr/local/lib/python3.7/dist-packages/sklearn/model_selection/_validation.py:680: DataConversionWarning: A column-vector y was passed when a 1d array was expected. Please change the shape of y to (n_samples,), for example using ravel().\n",
            "  estimator.fit(X_train, y_train, **fit_params)\n",
            "/usr/local/lib/python3.7/dist-packages/sklearn/model_selection/_validation.py:680: DataConversionWarning: A column-vector y was passed when a 1d array was expected. Please change the shape of y to (n_samples,), for example using ravel().\n",
            "  estimator.fit(X_train, y_train, **fit_params)\n",
            "/usr/local/lib/python3.7/dist-packages/sklearn/model_selection/_validation.py:680: DataConversionWarning: A column-vector y was passed when a 1d array was expected. Please change the shape of y to (n_samples,), for example using ravel().\n",
            "  estimator.fit(X_train, y_train, **fit_params)\n",
            "/usr/local/lib/python3.7/dist-packages/sklearn/model_selection/_validation.py:680: DataConversionWarning: A column-vector y was passed when a 1d array was expected. Please change the shape of y to (n_samples,), for example using ravel().\n",
            "  estimator.fit(X_train, y_train, **fit_params)\n",
            "/usr/local/lib/python3.7/dist-packages/sklearn/model_selection/_validation.py:680: DataConversionWarning: A column-vector y was passed when a 1d array was expected. Please change the shape of y to (n_samples,), for example using ravel().\n",
            "  estimator.fit(X_train, y_train, **fit_params)\n",
            "/usr/local/lib/python3.7/dist-packages/sklearn/model_selection/_search.py:926: DataConversionWarning: A column-vector y was passed when a 1d array was expected. Please change the shape of y to (n_samples,), for example using ravel().\n",
            "  self.best_estimator_.fit(X, y, **fit_params)\n"
          ]
        },
        {
          "output_type": "stream",
          "name": "stdout",
          "text": [
            "{'max_features': 'auto', 'n_estimators': 50}\n"
          ]
        }
      ],
      "source": [
        "param_grid = { \n",
        "    'n_estimators': [20,30,50],\n",
        "    'max_features': ['auto', 'sqrt'] \n",
        "    }\n",
        "\n",
        "rf_CV = GridSearchCV(estimator = RandomForestClassifier(random_state=0), param_grid=param_grid, cv=5)\n",
        "rf_CV.fit(X_train, y_train)\n",
        "print(rf_CV.best_params_)"
      ]
    },
    {
      "cell_type": "markdown",
      "source": [
        "Selecting the best hyper parameters for random forest algorithm with our chosen dataset\n",
        "& I got max-features as auto & n-estimators as 50."
      ],
      "metadata": {
        "id": "tEq5eeQjcUOI"
      }
    },
    {
      "cell_type": "code",
      "execution_count": null,
      "metadata": {
        "colab": {
          "base_uri": "https://localhost:8080/"
        },
        "id": "p33-IZKApgWH",
        "outputId": "0b145e1d-ae90-424d-a500-21f61d280edc"
      },
      "outputs": [
        {
          "output_type": "stream",
          "name": "stderr",
          "text": [
            "/usr/local/lib/python3.7/dist-packages/ipykernel_launcher.py:1: DataConversionWarning: A column-vector y was passed when a 1d array was expected. Please change the shape of y to (n_samples,), for example using ravel().\n",
            "  \"\"\"Entry point for launching an IPython kernel.\n"
          ]
        },
        {
          "output_type": "execute_result",
          "data": {
            "text/plain": [
              "0.91"
            ]
          },
          "metadata": {},
          "execution_count": 29
        }
      ],
      "source": [
        "clf = RandomForestClassifier(random_state=0, max_features='auto', n_estimators=50).fit(X_train, y_train)\n",
        "\n",
        "# Now measure its performance with the test data\n",
        "rf1 = clf.score(X_test, y_test)\n",
        "rf1"
      ]
    },
    {
      "cell_type": "markdown",
      "source": [
        "Now I built an RF model for predicting virus classifications using training data and got an accuracy of 91 %."
      ],
      "metadata": {
        "id": "L8jcjfwwcbSk"
      }
    },
    {
      "cell_type": "markdown",
      "metadata": {
        "id": "ye4mltwlpgWH"
      },
      "source": [
        "## K-Fold cross validation with the Random forest classifier:"
      ]
    },
    {
      "cell_type": "code",
      "execution_count": null,
      "metadata": {
        "colab": {
          "base_uri": "https://localhost:8080/"
        },
        "id": "mrfOsieqpgWH",
        "outputId": "1fe3855d-aa09-4f79-ed6e-c177f0d22cf7"
      },
      "outputs": [
        {
          "output_type": "stream",
          "name": "stderr",
          "text": [
            "/usr/local/lib/python3.7/dist-packages/sklearn/model_selection/_validation.py:680: DataConversionWarning: A column-vector y was passed when a 1d array was expected. Please change the shape of y to (n_samples,), for example using ravel().\n",
            "  estimator.fit(X_train, y_train, **fit_params)\n",
            "/usr/local/lib/python3.7/dist-packages/sklearn/model_selection/_validation.py:680: DataConversionWarning: A column-vector y was passed when a 1d array was expected. Please change the shape of y to (n_samples,), for example using ravel().\n",
            "  estimator.fit(X_train, y_train, **fit_params)\n",
            "/usr/local/lib/python3.7/dist-packages/sklearn/model_selection/_validation.py:680: DataConversionWarning: A column-vector y was passed when a 1d array was expected. Please change the shape of y to (n_samples,), for example using ravel().\n",
            "  estimator.fit(X_train, y_train, **fit_params)\n",
            "/usr/local/lib/python3.7/dist-packages/sklearn/model_selection/_validation.py:680: DataConversionWarning: A column-vector y was passed when a 1d array was expected. Please change the shape of y to (n_samples,), for example using ravel().\n",
            "  estimator.fit(X_train, y_train, **fit_params)\n",
            "/usr/local/lib/python3.7/dist-packages/sklearn/model_selection/_validation.py:680: DataConversionWarning: A column-vector y was passed when a 1d array was expected. Please change the shape of y to (n_samples,), for example using ravel().\n",
            "  estimator.fit(X_train, y_train, **fit_params)\n"
          ]
        },
        {
          "output_type": "stream",
          "name": "stdout",
          "text": [
            "[0.898      0.9        0.898      0.906      0.92592593]\n",
            "0.9055851851851852\n"
          ]
        }
      ],
      "source": [
        "# We give cross_val_score a model, the entire data set and its \"real\" values, and the number of folds:\n",
        "scores = cross_val_score(clf, X_trans, y, cv=5)\n",
        "\n",
        "# Print the accuracy for each fold:\n",
        "print(scores)\n",
        "\n",
        "# And the mean accuracy of all 5 folds:\n",
        "print(scores.mean())"
      ]
    },
    {
      "cell_type": "markdown",
      "source": [
        "When using a K of 5, I am getting an accuracy score as : 90.67 & training time is less as number of k folds are less\n",
        "\n",
        "When using a K of 10, I am  getting accuracy score as : 90.77 but training time is more as number of k folds are more\n",
        "\n",
        "Hence I am using K of 5 instead of 10, because getting a increase of only 0.10 % on the cost of double training time is not worth & also the increase in score is very much negligible.\n",
        "\n",
        "I conclude here with the increase in K-folds, there is a increase in score & training time too."
      ],
      "metadata": {
        "id": "dqTbI0_2dlsu"
      }
    },
    {
      "cell_type": "markdown",
      "metadata": {
        "id": "7rsz1QG8pgWH"
      },
      "source": [
        "##Summary:\n",
        "\n",
        "K-fold cross validation with the Random forest classifier is giving the best scores of all.\n",
        "\n",
        "I have tried using different algorithms in combination with k-fold cross validation.\n",
        "\n",
        "In conclusion random forest is classifying the virus attacks more accurately than any other algorithm."
      ]
    },
    {
      "cell_type": "markdown",
      "metadata": {
        "id": "CTcDBRwGpgWI"
      },
      "source": [
        "## 2. Logistic regression\n",
        "\n"
      ]
    },
    {
      "cell_type": "markdown",
      "metadata": {
        "id": "UQ7yV_2tpgWI"
      },
      "source": [
        "### Hyperparameter tuning: \n",
        "\n",
        "Selecting the best hyper parameters for logistic regrssion algorithm with our chosen dataset\n",
        "& we got max-iterations as 50."
      ]
    },
    {
      "cell_type": "code",
      "execution_count": null,
      "metadata": {
        "colab": {
          "base_uri": "https://localhost:8080/"
        },
        "id": "pnQokGA_pgWI",
        "outputId": "dd091b05-40dc-46f1-a707-285bf1a8fe1b"
      },
      "outputs": [
        {
          "output_type": "stream",
          "name": "stderr",
          "text": [
            "/usr/local/lib/python3.7/dist-packages/sklearn/utils/validation.py:993: DataConversionWarning: A column-vector y was passed when a 1d array was expected. Please change the shape of y to (n_samples, ), for example using ravel().\n",
            "  y = column_or_1d(y, warn=True)\n",
            "/usr/local/lib/python3.7/dist-packages/sklearn/linear_model/_logistic.py:818: ConvergenceWarning: lbfgs failed to converge (status=1):\n",
            "STOP: TOTAL NO. of ITERATIONS REACHED LIMIT.\n",
            "\n",
            "Increase the number of iterations (max_iter) or scale the data as shown in:\n",
            "    https://scikit-learn.org/stable/modules/preprocessing.html\n",
            "Please also refer to the documentation for alternative solver options:\n",
            "    https://scikit-learn.org/stable/modules/linear_model.html#logistic-regression\n",
            "  extra_warning_msg=_LOGISTIC_SOLVER_CONVERGENCE_MSG,\n",
            "/usr/local/lib/python3.7/dist-packages/sklearn/utils/validation.py:993: DataConversionWarning: A column-vector y was passed when a 1d array was expected. Please change the shape of y to (n_samples, ), for example using ravel().\n",
            "  y = column_or_1d(y, warn=True)\n",
            "/usr/local/lib/python3.7/dist-packages/sklearn/linear_model/_logistic.py:818: ConvergenceWarning: lbfgs failed to converge (status=1):\n",
            "STOP: TOTAL NO. of ITERATIONS REACHED LIMIT.\n",
            "\n",
            "Increase the number of iterations (max_iter) or scale the data as shown in:\n",
            "    https://scikit-learn.org/stable/modules/preprocessing.html\n",
            "Please also refer to the documentation for alternative solver options:\n",
            "    https://scikit-learn.org/stable/modules/linear_model.html#logistic-regression\n",
            "  extra_warning_msg=_LOGISTIC_SOLVER_CONVERGENCE_MSG,\n",
            "/usr/local/lib/python3.7/dist-packages/sklearn/utils/validation.py:993: DataConversionWarning: A column-vector y was passed when a 1d array was expected. Please change the shape of y to (n_samples, ), for example using ravel().\n",
            "  y = column_or_1d(y, warn=True)\n",
            "/usr/local/lib/python3.7/dist-packages/sklearn/linear_model/_logistic.py:818: ConvergenceWarning: lbfgs failed to converge (status=1):\n",
            "STOP: TOTAL NO. of ITERATIONS REACHED LIMIT.\n",
            "\n",
            "Increase the number of iterations (max_iter) or scale the data as shown in:\n",
            "    https://scikit-learn.org/stable/modules/preprocessing.html\n",
            "Please also refer to the documentation for alternative solver options:\n",
            "    https://scikit-learn.org/stable/modules/linear_model.html#logistic-regression\n",
            "  extra_warning_msg=_LOGISTIC_SOLVER_CONVERGENCE_MSG,\n",
            "/usr/local/lib/python3.7/dist-packages/sklearn/utils/validation.py:993: DataConversionWarning: A column-vector y was passed when a 1d array was expected. Please change the shape of y to (n_samples, ), for example using ravel().\n",
            "  y = column_or_1d(y, warn=True)\n",
            "/usr/local/lib/python3.7/dist-packages/sklearn/linear_model/_logistic.py:818: ConvergenceWarning: lbfgs failed to converge (status=1):\n",
            "STOP: TOTAL NO. of ITERATIONS REACHED LIMIT.\n",
            "\n",
            "Increase the number of iterations (max_iter) or scale the data as shown in:\n",
            "    https://scikit-learn.org/stable/modules/preprocessing.html\n",
            "Please also refer to the documentation for alternative solver options:\n",
            "    https://scikit-learn.org/stable/modules/linear_model.html#logistic-regression\n",
            "  extra_warning_msg=_LOGISTIC_SOLVER_CONVERGENCE_MSG,\n",
            "/usr/local/lib/python3.7/dist-packages/sklearn/utils/validation.py:993: DataConversionWarning: A column-vector y was passed when a 1d array was expected. Please change the shape of y to (n_samples, ), for example using ravel().\n",
            "  y = column_or_1d(y, warn=True)\n",
            "/usr/local/lib/python3.7/dist-packages/sklearn/linear_model/_logistic.py:818: ConvergenceWarning: lbfgs failed to converge (status=1):\n",
            "STOP: TOTAL NO. of ITERATIONS REACHED LIMIT.\n",
            "\n",
            "Increase the number of iterations (max_iter) or scale the data as shown in:\n",
            "    https://scikit-learn.org/stable/modules/preprocessing.html\n",
            "Please also refer to the documentation for alternative solver options:\n",
            "    https://scikit-learn.org/stable/modules/linear_model.html#logistic-regression\n",
            "  extra_warning_msg=_LOGISTIC_SOLVER_CONVERGENCE_MSG,\n",
            "/usr/local/lib/python3.7/dist-packages/sklearn/utils/validation.py:993: DataConversionWarning: A column-vector y was passed when a 1d array was expected. Please change the shape of y to (n_samples, ), for example using ravel().\n",
            "  y = column_or_1d(y, warn=True)\n",
            "/usr/local/lib/python3.7/dist-packages/sklearn/linear_model/_logistic.py:818: ConvergenceWarning: lbfgs failed to converge (status=1):\n",
            "STOP: TOTAL NO. of ITERATIONS REACHED LIMIT.\n",
            "\n",
            "Increase the number of iterations (max_iter) or scale the data as shown in:\n",
            "    https://scikit-learn.org/stable/modules/preprocessing.html\n",
            "Please also refer to the documentation for alternative solver options:\n",
            "    https://scikit-learn.org/stable/modules/linear_model.html#logistic-regression\n",
            "  extra_warning_msg=_LOGISTIC_SOLVER_CONVERGENCE_MSG,\n",
            "/usr/local/lib/python3.7/dist-packages/sklearn/utils/validation.py:993: DataConversionWarning: A column-vector y was passed when a 1d array was expected. Please change the shape of y to (n_samples, ), for example using ravel().\n",
            "  y = column_or_1d(y, warn=True)\n",
            "/usr/local/lib/python3.7/dist-packages/sklearn/linear_model/_logistic.py:818: ConvergenceWarning: lbfgs failed to converge (status=1):\n",
            "STOP: TOTAL NO. of ITERATIONS REACHED LIMIT.\n",
            "\n",
            "Increase the number of iterations (max_iter) or scale the data as shown in:\n",
            "    https://scikit-learn.org/stable/modules/preprocessing.html\n",
            "Please also refer to the documentation for alternative solver options:\n",
            "    https://scikit-learn.org/stable/modules/linear_model.html#logistic-regression\n",
            "  extra_warning_msg=_LOGISTIC_SOLVER_CONVERGENCE_MSG,\n",
            "/usr/local/lib/python3.7/dist-packages/sklearn/utils/validation.py:993: DataConversionWarning: A column-vector y was passed when a 1d array was expected. Please change the shape of y to (n_samples, ), for example using ravel().\n",
            "  y = column_or_1d(y, warn=True)\n",
            "/usr/local/lib/python3.7/dist-packages/sklearn/linear_model/_logistic.py:818: ConvergenceWarning: lbfgs failed to converge (status=1):\n",
            "STOP: TOTAL NO. of ITERATIONS REACHED LIMIT.\n",
            "\n",
            "Increase the number of iterations (max_iter) or scale the data as shown in:\n",
            "    https://scikit-learn.org/stable/modules/preprocessing.html\n",
            "Please also refer to the documentation for alternative solver options:\n",
            "    https://scikit-learn.org/stable/modules/linear_model.html#logistic-regression\n",
            "  extra_warning_msg=_LOGISTIC_SOLVER_CONVERGENCE_MSG,\n",
            "/usr/local/lib/python3.7/dist-packages/sklearn/utils/validation.py:993: DataConversionWarning: A column-vector y was passed when a 1d array was expected. Please change the shape of y to (n_samples, ), for example using ravel().\n",
            "  y = column_or_1d(y, warn=True)\n",
            "/usr/local/lib/python3.7/dist-packages/sklearn/linear_model/_logistic.py:818: ConvergenceWarning: lbfgs failed to converge (status=1):\n",
            "STOP: TOTAL NO. of ITERATIONS REACHED LIMIT.\n",
            "\n",
            "Increase the number of iterations (max_iter) or scale the data as shown in:\n",
            "    https://scikit-learn.org/stable/modules/preprocessing.html\n",
            "Please also refer to the documentation for alternative solver options:\n",
            "    https://scikit-learn.org/stable/modules/linear_model.html#logistic-regression\n",
            "  extra_warning_msg=_LOGISTIC_SOLVER_CONVERGENCE_MSG,\n",
            "/usr/local/lib/python3.7/dist-packages/sklearn/utils/validation.py:993: DataConversionWarning: A column-vector y was passed when a 1d array was expected. Please change the shape of y to (n_samples, ), for example using ravel().\n",
            "  y = column_or_1d(y, warn=True)\n",
            "/usr/local/lib/python3.7/dist-packages/sklearn/linear_model/_logistic.py:818: ConvergenceWarning: lbfgs failed to converge (status=1):\n",
            "STOP: TOTAL NO. of ITERATIONS REACHED LIMIT.\n",
            "\n",
            "Increase the number of iterations (max_iter) or scale the data as shown in:\n",
            "    https://scikit-learn.org/stable/modules/preprocessing.html\n",
            "Please also refer to the documentation for alternative solver options:\n",
            "    https://scikit-learn.org/stable/modules/linear_model.html#logistic-regression\n",
            "  extra_warning_msg=_LOGISTIC_SOLVER_CONVERGENCE_MSG,\n",
            "/usr/local/lib/python3.7/dist-packages/sklearn/utils/validation.py:993: DataConversionWarning: A column-vector y was passed when a 1d array was expected. Please change the shape of y to (n_samples, ), for example using ravel().\n",
            "  y = column_or_1d(y, warn=True)\n",
            "/usr/local/lib/python3.7/dist-packages/sklearn/linear_model/_logistic.py:818: ConvergenceWarning: lbfgs failed to converge (status=1):\n",
            "STOP: TOTAL NO. of ITERATIONS REACHED LIMIT.\n",
            "\n",
            "Increase the number of iterations (max_iter) or scale the data as shown in:\n",
            "    https://scikit-learn.org/stable/modules/preprocessing.html\n",
            "Please also refer to the documentation for alternative solver options:\n",
            "    https://scikit-learn.org/stable/modules/linear_model.html#logistic-regression\n",
            "  extra_warning_msg=_LOGISTIC_SOLVER_CONVERGENCE_MSG,\n",
            "/usr/local/lib/python3.7/dist-packages/sklearn/utils/validation.py:993: DataConversionWarning: A column-vector y was passed when a 1d array was expected. Please change the shape of y to (n_samples, ), for example using ravel().\n",
            "  y = column_or_1d(y, warn=True)\n",
            "/usr/local/lib/python3.7/dist-packages/sklearn/linear_model/_logistic.py:818: ConvergenceWarning: lbfgs failed to converge (status=1):\n",
            "STOP: TOTAL NO. of ITERATIONS REACHED LIMIT.\n",
            "\n",
            "Increase the number of iterations (max_iter) or scale the data as shown in:\n",
            "    https://scikit-learn.org/stable/modules/preprocessing.html\n",
            "Please also refer to the documentation for alternative solver options:\n",
            "    https://scikit-learn.org/stable/modules/linear_model.html#logistic-regression\n",
            "  extra_warning_msg=_LOGISTIC_SOLVER_CONVERGENCE_MSG,\n",
            "/usr/local/lib/python3.7/dist-packages/sklearn/utils/validation.py:993: DataConversionWarning: A column-vector y was passed when a 1d array was expected. Please change the shape of y to (n_samples, ), for example using ravel().\n",
            "  y = column_or_1d(y, warn=True)\n",
            "/usr/local/lib/python3.7/dist-packages/sklearn/linear_model/_logistic.py:818: ConvergenceWarning: lbfgs failed to converge (status=1):\n",
            "STOP: TOTAL NO. of ITERATIONS REACHED LIMIT.\n",
            "\n",
            "Increase the number of iterations (max_iter) or scale the data as shown in:\n",
            "    https://scikit-learn.org/stable/modules/preprocessing.html\n",
            "Please also refer to the documentation for alternative solver options:\n",
            "    https://scikit-learn.org/stable/modules/linear_model.html#logistic-regression\n",
            "  extra_warning_msg=_LOGISTIC_SOLVER_CONVERGENCE_MSG,\n",
            "/usr/local/lib/python3.7/dist-packages/sklearn/utils/validation.py:993: DataConversionWarning: A column-vector y was passed when a 1d array was expected. Please change the shape of y to (n_samples, ), for example using ravel().\n",
            "  y = column_or_1d(y, warn=True)\n",
            "/usr/local/lib/python3.7/dist-packages/sklearn/linear_model/_logistic.py:818: ConvergenceWarning: lbfgs failed to converge (status=1):\n",
            "STOP: TOTAL NO. of ITERATIONS REACHED LIMIT.\n",
            "\n",
            "Increase the number of iterations (max_iter) or scale the data as shown in:\n",
            "    https://scikit-learn.org/stable/modules/preprocessing.html\n",
            "Please also refer to the documentation for alternative solver options:\n",
            "    https://scikit-learn.org/stable/modules/linear_model.html#logistic-regression\n",
            "  extra_warning_msg=_LOGISTIC_SOLVER_CONVERGENCE_MSG,\n",
            "/usr/local/lib/python3.7/dist-packages/sklearn/utils/validation.py:993: DataConversionWarning: A column-vector y was passed when a 1d array was expected. Please change the shape of y to (n_samples, ), for example using ravel().\n",
            "  y = column_or_1d(y, warn=True)\n",
            "/usr/local/lib/python3.7/dist-packages/sklearn/linear_model/_logistic.py:818: ConvergenceWarning: lbfgs failed to converge (status=1):\n",
            "STOP: TOTAL NO. of ITERATIONS REACHED LIMIT.\n",
            "\n",
            "Increase the number of iterations (max_iter) or scale the data as shown in:\n",
            "    https://scikit-learn.org/stable/modules/preprocessing.html\n",
            "Please also refer to the documentation for alternative solver options:\n",
            "    https://scikit-learn.org/stable/modules/linear_model.html#logistic-regression\n",
            "  extra_warning_msg=_LOGISTIC_SOLVER_CONVERGENCE_MSG,\n",
            "/usr/local/lib/python3.7/dist-packages/sklearn/utils/validation.py:993: DataConversionWarning: A column-vector y was passed when a 1d array was expected. Please change the shape of y to (n_samples, ), for example using ravel().\n",
            "  y = column_or_1d(y, warn=True)\n"
          ]
        },
        {
          "output_type": "stream",
          "name": "stdout",
          "text": [
            "{'max_iter': 50}\n"
          ]
        },
        {
          "output_type": "stream",
          "name": "stderr",
          "text": [
            "/usr/local/lib/python3.7/dist-packages/sklearn/linear_model/_logistic.py:818: ConvergenceWarning: lbfgs failed to converge (status=1):\n",
            "STOP: TOTAL NO. of ITERATIONS REACHED LIMIT.\n",
            "\n",
            "Increase the number of iterations (max_iter) or scale the data as shown in:\n",
            "    https://scikit-learn.org/stable/modules/preprocessing.html\n",
            "Please also refer to the documentation for alternative solver options:\n",
            "    https://scikit-learn.org/stable/modules/linear_model.html#logistic-regression\n",
            "  extra_warning_msg=_LOGISTIC_SOLVER_CONVERGENCE_MSG,\n"
          ]
        }
      ],
      "source": [
        "param_grid = { \n",
        "    'max_iter': [10,30,50],\n",
        "    }\n",
        "\n",
        "lr_CV = GridSearchCV(estimator = LogisticRegression(random_state=0), param_grid=param_grid, cv=5)\n",
        "lr_CV.fit(X_train, y_train)\n",
        "print(lr_CV.best_params_)"
      ]
    },
    {
      "cell_type": "code",
      "execution_count": null,
      "metadata": {
        "colab": {
          "base_uri": "https://localhost:8080/"
        },
        "id": "aPBWUp_upgWI",
        "outputId": "90b649d2-b6ae-4afe-9111-47f47cd112c1"
      },
      "outputs": [
        {
          "output_type": "stream",
          "name": "stderr",
          "text": [
            "/usr/local/lib/python3.7/dist-packages/sklearn/utils/validation.py:993: DataConversionWarning: A column-vector y was passed when a 1d array was expected. Please change the shape of y to (n_samples, ), for example using ravel().\n",
            "  y = column_or_1d(y, warn=True)\n",
            "/usr/local/lib/python3.7/dist-packages/sklearn/linear_model/_logistic.py:818: ConvergenceWarning: lbfgs failed to converge (status=1):\n",
            "STOP: TOTAL NO. of ITERATIONS REACHED LIMIT.\n",
            "\n",
            "Increase the number of iterations (max_iter) or scale the data as shown in:\n",
            "    https://scikit-learn.org/stable/modules/preprocessing.html\n",
            "Please also refer to the documentation for alternative solver options:\n",
            "    https://scikit-learn.org/stable/modules/linear_model.html#logistic-regression\n",
            "  extra_warning_msg=_LOGISTIC_SOLVER_CONVERGENCE_MSG,\n"
          ]
        },
        {
          "output_type": "execute_result",
          "data": {
            "text/plain": [
              "0.571"
            ]
          },
          "metadata": {},
          "execution_count": 31
        }
      ],
      "source": [
        "# Build an LR model for predicting virus classifications using training data\n",
        "clf = LogisticRegression(random_state=0, max_iter=50).fit(X_train, y_train)\n",
        "\n",
        "# Now measure its performance with the test data\n",
        "lg1 = clf.score(X_test, y_test)\n",
        "lg1"
      ]
    },
    {
      "cell_type": "markdown",
      "source": [
        "This algorithm was able to give an accuracy of only 57 % which interprets that the model failed to interpret the  minor aspects of the target which is type 5 and the rows are predicted incorrectly."
      ],
      "metadata": {
        "id": "He0QFY4FfdRm"
      }
    },
    {
      "cell_type": "markdown",
      "metadata": {
        "id": "p4M85bjUpgWI"
      },
      "source": [
        "##K-Fold cross validation with Logistic Regression:"
      ]
    },
    {
      "cell_type": "code",
      "execution_count": null,
      "metadata": {
        "colab": {
          "base_uri": "https://localhost:8080/"
        },
        "id": "489FcHD2pgWI",
        "outputId": "b5a73e85-2133-4af0-8d98-5f871ed1351f"
      },
      "outputs": [
        {
          "output_type": "stream",
          "name": "stderr",
          "text": [
            "/usr/local/lib/python3.7/dist-packages/sklearn/utils/validation.py:993: DataConversionWarning: A column-vector y was passed when a 1d array was expected. Please change the shape of y to (n_samples, ), for example using ravel().\n",
            "  y = column_or_1d(y, warn=True)\n",
            "/usr/local/lib/python3.7/dist-packages/sklearn/linear_model/_logistic.py:818: ConvergenceWarning: lbfgs failed to converge (status=1):\n",
            "STOP: TOTAL NO. of ITERATIONS REACHED LIMIT.\n",
            "\n",
            "Increase the number of iterations (max_iter) or scale the data as shown in:\n",
            "    https://scikit-learn.org/stable/modules/preprocessing.html\n",
            "Please also refer to the documentation for alternative solver options:\n",
            "    https://scikit-learn.org/stable/modules/linear_model.html#logistic-regression\n",
            "  extra_warning_msg=_LOGISTIC_SOLVER_CONVERGENCE_MSG,\n",
            "/usr/local/lib/python3.7/dist-packages/sklearn/utils/validation.py:993: DataConversionWarning: A column-vector y was passed when a 1d array was expected. Please change the shape of y to (n_samples, ), for example using ravel().\n",
            "  y = column_or_1d(y, warn=True)\n",
            "/usr/local/lib/python3.7/dist-packages/sklearn/linear_model/_logistic.py:818: ConvergenceWarning: lbfgs failed to converge (status=1):\n",
            "STOP: TOTAL NO. of ITERATIONS REACHED LIMIT.\n",
            "\n",
            "Increase the number of iterations (max_iter) or scale the data as shown in:\n",
            "    https://scikit-learn.org/stable/modules/preprocessing.html\n",
            "Please also refer to the documentation for alternative solver options:\n",
            "    https://scikit-learn.org/stable/modules/linear_model.html#logistic-regression\n",
            "  extra_warning_msg=_LOGISTIC_SOLVER_CONVERGENCE_MSG,\n",
            "/usr/local/lib/python3.7/dist-packages/sklearn/utils/validation.py:993: DataConversionWarning: A column-vector y was passed when a 1d array was expected. Please change the shape of y to (n_samples, ), for example using ravel().\n",
            "  y = column_or_1d(y, warn=True)\n",
            "/usr/local/lib/python3.7/dist-packages/sklearn/linear_model/_logistic.py:818: ConvergenceWarning: lbfgs failed to converge (status=1):\n",
            "STOP: TOTAL NO. of ITERATIONS REACHED LIMIT.\n",
            "\n",
            "Increase the number of iterations (max_iter) or scale the data as shown in:\n",
            "    https://scikit-learn.org/stable/modules/preprocessing.html\n",
            "Please also refer to the documentation for alternative solver options:\n",
            "    https://scikit-learn.org/stable/modules/linear_model.html#logistic-regression\n",
            "  extra_warning_msg=_LOGISTIC_SOLVER_CONVERGENCE_MSG,\n",
            "/usr/local/lib/python3.7/dist-packages/sklearn/utils/validation.py:993: DataConversionWarning: A column-vector y was passed when a 1d array was expected. Please change the shape of y to (n_samples, ), for example using ravel().\n",
            "  y = column_or_1d(y, warn=True)\n",
            "/usr/local/lib/python3.7/dist-packages/sklearn/linear_model/_logistic.py:818: ConvergenceWarning: lbfgs failed to converge (status=1):\n",
            "STOP: TOTAL NO. of ITERATIONS REACHED LIMIT.\n",
            "\n",
            "Increase the number of iterations (max_iter) or scale the data as shown in:\n",
            "    https://scikit-learn.org/stable/modules/preprocessing.html\n",
            "Please also refer to the documentation for alternative solver options:\n",
            "    https://scikit-learn.org/stable/modules/linear_model.html#logistic-regression\n",
            "  extra_warning_msg=_LOGISTIC_SOLVER_CONVERGENCE_MSG,\n",
            "/usr/local/lib/python3.7/dist-packages/sklearn/utils/validation.py:993: DataConversionWarning: A column-vector y was passed when a 1d array was expected. Please change the shape of y to (n_samples, ), for example using ravel().\n",
            "  y = column_or_1d(y, warn=True)\n",
            "/usr/local/lib/python3.7/dist-packages/sklearn/linear_model/_logistic.py:818: ConvergenceWarning: lbfgs failed to converge (status=1):\n",
            "STOP: TOTAL NO. of ITERATIONS REACHED LIMIT.\n",
            "\n",
            "Increase the number of iterations (max_iter) or scale the data as shown in:\n",
            "    https://scikit-learn.org/stable/modules/preprocessing.html\n",
            "Please also refer to the documentation for alternative solver options:\n",
            "    https://scikit-learn.org/stable/modules/linear_model.html#logistic-regression\n",
            "  extra_warning_msg=_LOGISTIC_SOLVER_CONVERGENCE_MSG,\n",
            "/usr/local/lib/python3.7/dist-packages/sklearn/utils/validation.py:993: DataConversionWarning: A column-vector y was passed when a 1d array was expected. Please change the shape of y to (n_samples, ), for example using ravel().\n",
            "  y = column_or_1d(y, warn=True)\n",
            "/usr/local/lib/python3.7/dist-packages/sklearn/linear_model/_logistic.py:818: ConvergenceWarning: lbfgs failed to converge (status=1):\n",
            "STOP: TOTAL NO. of ITERATIONS REACHED LIMIT.\n",
            "\n",
            "Increase the number of iterations (max_iter) or scale the data as shown in:\n",
            "    https://scikit-learn.org/stable/modules/preprocessing.html\n",
            "Please also refer to the documentation for alternative solver options:\n",
            "    https://scikit-learn.org/stable/modules/linear_model.html#logistic-regression\n",
            "  extra_warning_msg=_LOGISTIC_SOLVER_CONVERGENCE_MSG,\n",
            "/usr/local/lib/python3.7/dist-packages/sklearn/utils/validation.py:993: DataConversionWarning: A column-vector y was passed when a 1d array was expected. Please change the shape of y to (n_samples, ), for example using ravel().\n",
            "  y = column_or_1d(y, warn=True)\n",
            "/usr/local/lib/python3.7/dist-packages/sklearn/linear_model/_logistic.py:818: ConvergenceWarning: lbfgs failed to converge (status=1):\n",
            "STOP: TOTAL NO. of ITERATIONS REACHED LIMIT.\n",
            "\n",
            "Increase the number of iterations (max_iter) or scale the data as shown in:\n",
            "    https://scikit-learn.org/stable/modules/preprocessing.html\n",
            "Please also refer to the documentation for alternative solver options:\n",
            "    https://scikit-learn.org/stable/modules/linear_model.html#logistic-regression\n",
            "  extra_warning_msg=_LOGISTIC_SOLVER_CONVERGENCE_MSG,\n",
            "/usr/local/lib/python3.7/dist-packages/sklearn/utils/validation.py:993: DataConversionWarning: A column-vector y was passed when a 1d array was expected. Please change the shape of y to (n_samples, ), for example using ravel().\n",
            "  y = column_or_1d(y, warn=True)\n",
            "/usr/local/lib/python3.7/dist-packages/sklearn/linear_model/_logistic.py:818: ConvergenceWarning: lbfgs failed to converge (status=1):\n",
            "STOP: TOTAL NO. of ITERATIONS REACHED LIMIT.\n",
            "\n",
            "Increase the number of iterations (max_iter) or scale the data as shown in:\n",
            "    https://scikit-learn.org/stable/modules/preprocessing.html\n",
            "Please also refer to the documentation for alternative solver options:\n",
            "    https://scikit-learn.org/stable/modules/linear_model.html#logistic-regression\n",
            "  extra_warning_msg=_LOGISTIC_SOLVER_CONVERGENCE_MSG,\n",
            "/usr/local/lib/python3.7/dist-packages/sklearn/utils/validation.py:993: DataConversionWarning: A column-vector y was passed when a 1d array was expected. Please change the shape of y to (n_samples, ), for example using ravel().\n",
            "  y = column_or_1d(y, warn=True)\n",
            "/usr/local/lib/python3.7/dist-packages/sklearn/linear_model/_logistic.py:818: ConvergenceWarning: lbfgs failed to converge (status=1):\n",
            "STOP: TOTAL NO. of ITERATIONS REACHED LIMIT.\n",
            "\n",
            "Increase the number of iterations (max_iter) or scale the data as shown in:\n",
            "    https://scikit-learn.org/stable/modules/preprocessing.html\n",
            "Please also refer to the documentation for alternative solver options:\n",
            "    https://scikit-learn.org/stable/modules/linear_model.html#logistic-regression\n",
            "  extra_warning_msg=_LOGISTIC_SOLVER_CONVERGENCE_MSG,\n",
            "/usr/local/lib/python3.7/dist-packages/sklearn/utils/validation.py:993: DataConversionWarning: A column-vector y was passed when a 1d array was expected. Please change the shape of y to (n_samples, ), for example using ravel().\n",
            "  y = column_or_1d(y, warn=True)\n"
          ]
        },
        {
          "output_type": "stream",
          "name": "stdout",
          "text": [
            "[0.536      0.54       0.624      0.566      0.516      0.512\n",
            " 0.592      0.552      0.54       0.54108216]\n",
            "0.5519082164328658\n"
          ]
        },
        {
          "output_type": "stream",
          "name": "stderr",
          "text": [
            "/usr/local/lib/python3.7/dist-packages/sklearn/linear_model/_logistic.py:818: ConvergenceWarning: lbfgs failed to converge (status=1):\n",
            "STOP: TOTAL NO. of ITERATIONS REACHED LIMIT.\n",
            "\n",
            "Increase the number of iterations (max_iter) or scale the data as shown in:\n",
            "    https://scikit-learn.org/stable/modules/preprocessing.html\n",
            "Please also refer to the documentation for alternative solver options:\n",
            "    https://scikit-learn.org/stable/modules/linear_model.html#logistic-regression\n",
            "  extra_warning_msg=_LOGISTIC_SOLVER_CONVERGENCE_MSG,\n"
          ]
        }
      ],
      "source": [
        "# We give cross_val_score a model, the entire data set and its \"real\" values, and the number of folds:\n",
        "scores = cross_val_score(clf, X_trans, y, cv=10)\n",
        "\n",
        "# Print the accuracy for each fold:\n",
        "print(scores)\n",
        "\n",
        "# And the mean accuracy of all 5 folds:\n",
        "print(scores.mean())"
      ]
    },
    {
      "cell_type": "markdown",
      "source": [
        "When using a K of 5, we are getting score as : 55.63 & training time is less as number of k folds are less\n",
        "\n",
        "when using a K of 10, we are getting score as : 55.11 but training time is more as number of k folds are more\n",
        "\n",
        "Hence I am using K of 5 instead of 10, because the score is higher. I conclude here with the increase in K-folds, there is a drop in score.\n",
        "\n",
        "This model is not fit for our dataset."
      ],
      "metadata": {
        "id": "lTe8REU_geki"
      }
    },
    {
      "cell_type": "markdown",
      "metadata": {
        "id": "I5jN5dOjpgWI"
      },
      "source": [
        "## 3. Decision Tree Classifier:\n",
        "\n"
      ]
    },
    {
      "cell_type": "markdown",
      "metadata": {
        "id": "l4okoJORpgWJ"
      },
      "source": [
        "### Hyperparameter tuning: \n",
        "\n",
        "Selecting the best hyper parameters for Decision Tree Classifier algorithm with our chosen dataset and  max-depth of 50.\n"
      ]
    },
    {
      "cell_type": "code",
      "execution_count": null,
      "metadata": {
        "colab": {
          "base_uri": "https://localhost:8080/"
        },
        "id": "Dayg5zC_pgWJ",
        "outputId": "15587721-3229-4e42-d61b-cc61ae1dd90d"
      },
      "outputs": [
        {
          "output_type": "stream",
          "name": "stdout",
          "text": [
            "{'max_depth': 50}\n"
          ]
        }
      ],
      "source": [
        "param_grid = { \n",
        "    'max_depth': [50, None],\n",
        "    }\n",
        "\n",
        "dt_CV = GridSearchCV(estimator = DecisionTreeClassifier(random_state=0), param_grid=param_grid, cv=5)\n",
        "dt_CV.fit(X_train, y_train)\n",
        "print(dt_CV.best_params_)"
      ]
    },
    {
      "cell_type": "code",
      "execution_count": null,
      "metadata": {
        "colab": {
          "base_uri": "https://localhost:8080/"
        },
        "id": "RM5Ge_uopgWJ",
        "outputId": "8f09929c-7d00-4c97-80df-01d89617d11e"
      },
      "outputs": [
        {
          "output_type": "execute_result",
          "data": {
            "text/plain": [
              "0.801"
            ]
          },
          "metadata": {},
          "execution_count": 34
        }
      ],
      "source": [
        "# Build an DT model for predicting virus classifications using training data\n",
        "clf = DecisionTreeClassifier(max_depth=50).fit(X_train, y_train)\n",
        "\n",
        "# Now measure its performance with the test data\n",
        "dt1 = clf.score(X_test, y_test)\n",
        "dt1"
      ]
    },
    {
      "cell_type": "markdown",
      "source": [
        "I got an accuracy of 80%.\n",
        "I can say that the model is a good fit and is able to categorize all the output class labels and has generated upto 80% accuracy."
      ],
      "metadata": {
        "id": "gm2F8B96shgt"
      }
    },
    {
      "cell_type": "markdown",
      "metadata": {
        "id": "t10X3uhDpgWJ"
      },
      "source": [
        "##K-Fold cross validation with Decision tree Classifier:"
      ]
    },
    {
      "cell_type": "code",
      "execution_count": null,
      "metadata": {
        "colab": {
          "base_uri": "https://localhost:8080/"
        },
        "id": "PsRH0SQBpgWJ",
        "outputId": "22d7db16-f070-49a2-c6d5-c2dce5d35dcf"
      },
      "outputs": [
        {
          "output_type": "stream",
          "name": "stdout",
          "text": [
            "[0.799      0.806      0.803      0.796      0.81081081]\n",
            "0.8029621621621621\n"
          ]
        }
      ],
      "source": [
        "# We give cross_val_score a model, the entire data set and its \"real\" values, and the number of folds:\n",
        "scores = cross_val_score(clf, X_trans, y, cv=5)\n",
        "\n",
        "# Print the accuracy for each fold:\n",
        "print(scores)\n",
        "\n",
        "# And the mean accuracy of all 10 folds:\n",
        "print(scores.mean())"
      ]
    },
    {
      "cell_type": "markdown",
      "source": [
        "When using a K of 5, I am getting accuracy score as : 79.65 & training time is less as number of k folds are less\n",
        "\n",
        "When using a K of 10, I am getting accuracy score as : 80.55 but training time is more as number of k folds are more\n",
        "\n",
        "Hence I am using K of 5 instead of 10, because getting a increase of only 1.10 % on the cost of double training time is not worth and also the increase in score is very much negligable.\n",
        "\n",
        "Hence, with the increase in K-folds, there is a increase in score & training time too."
      ],
      "metadata": {
        "id": "58Iw6BFVtkvK"
      }
    },
    {
      "cell_type": "markdown",
      "metadata": {
        "id": "CM1CWTj_pgWJ"
      },
      "source": [
        "### K-nearest Neighbors (KNN):\n"
      ]
    },
    {
      "cell_type": "code",
      "execution_count": null,
      "metadata": {
        "colab": {
          "base_uri": "https://localhost:8080/"
        },
        "id": "mist3aBspgWJ",
        "outputId": "94509848-40d8-4c25-bddc-4da9aaa0cb7e"
      },
      "outputs": [
        {
          "output_type": "stream",
          "name": "stderr",
          "text": [
            "/usr/local/lib/python3.7/dist-packages/sklearn/neighbors/_classification.py:198: DataConversionWarning: A column-vector y was passed when a 1d array was expected. Please change the shape of y to (n_samples,), for example using ravel().\n",
            "  return self._fit(X, y)\n"
          ]
        },
        {
          "output_type": "execute_result",
          "data": {
            "text/plain": [
              "0.3075"
            ]
          },
          "metadata": {},
          "execution_count": 36
        }
      ],
      "source": [
        "# Build an KNN model for predicting virus classifications using training data\n",
        "clf = KNeighborsClassifier().fit(X_train, y_train)\n",
        "\n",
        "# Now measure its performance with the test data\n",
        "knn1 = clf.score(X_test, y_test)\n",
        "knn1"
      ]
    },
    {
      "cell_type": "markdown",
      "source": [
        "As our dataset is very huge, I am not getting good score.\n",
        "\n",
        "As dataset is already huge & performance is very poor, I am not doing any hyperparameter tuning.\n",
        "\n",
        "The score is generated is 31 % which is the least accuracy because the algorithm is overfitting and not suitable for selection as best model.\n",
        "It has generalized all the output label."
      ],
      "metadata": {
        "id": "9xrObbyzwEUk"
      }
    },
    {
      "cell_type": "markdown",
      "metadata": {
        "id": "NHLknj3ZpgWK"
      },
      "source": [
        "##K-Fold cross validation with KNN: \n"
      ]
    },
    {
      "cell_type": "code",
      "execution_count": null,
      "metadata": {
        "colab": {
          "base_uri": "https://localhost:8080/"
        },
        "id": "gnAxT17ppgWK",
        "outputId": "cf5bc06a-42b5-4a20-98e9-9f583c158a5e"
      },
      "outputs": [
        {
          "output_type": "stream",
          "name": "stderr",
          "text": [
            "/usr/local/lib/python3.7/dist-packages/sklearn/neighbors/_classification.py:198: DataConversionWarning: A column-vector y was passed when a 1d array was expected. Please change the shape of y to (n_samples,), for example using ravel().\n",
            "  return self._fit(X, y)\n",
            "/usr/local/lib/python3.7/dist-packages/sklearn/neighbors/_classification.py:198: DataConversionWarning: A column-vector y was passed when a 1d array was expected. Please change the shape of y to (n_samples,), for example using ravel().\n",
            "  return self._fit(X, y)\n",
            "/usr/local/lib/python3.7/dist-packages/sklearn/neighbors/_classification.py:198: DataConversionWarning: A column-vector y was passed when a 1d array was expected. Please change the shape of y to (n_samples,), for example using ravel().\n",
            "  return self._fit(X, y)\n",
            "/usr/local/lib/python3.7/dist-packages/sklearn/neighbors/_classification.py:198: DataConversionWarning: A column-vector y was passed when a 1d array was expected. Please change the shape of y to (n_samples,), for example using ravel().\n",
            "  return self._fit(X, y)\n",
            "/usr/local/lib/python3.7/dist-packages/sklearn/neighbors/_classification.py:198: DataConversionWarning: A column-vector y was passed when a 1d array was expected. Please change the shape of y to (n_samples,), for example using ravel().\n",
            "  return self._fit(X, y)\n"
          ]
        },
        {
          "output_type": "stream",
          "name": "stdout",
          "text": [
            "[0.346      0.317      0.313      0.293      0.31931932]\n",
            "0.31766386386386386\n"
          ]
        }
      ],
      "source": [
        "# We give cross_val_score a model, the entire data set and its \"real\" values, and the number of folds:\n",
        "scores = cross_val_score(clf, X_trans, y, cv=5)\n",
        "\n",
        "# Print the accuracy for each fold:\n",
        "print(scores)\n",
        "\n",
        "# And the mean accuracy of all 5 folds:\n",
        "print(scores.mean())"
      ]
    },
    {
      "cell_type": "markdown",
      "source": [
        "When using a K of 5, I am getting score as : 31.76 & training time is less as number of k folds are less\n",
        "\n",
        "When using a K of 10, I am getting score as : 31.88 but training time is more as number of k folds are more\n",
        "\n",
        "Hence I am using K of 5 instead of 10, because getting a increase of only 0.12 % on the cost of double training time is not worth & also the increase in score is very much negligable.\n",
        "\n",
        "I can say that with the increase in K-folds, there is a increase in score & training time too. \n",
        "\n",
        "Even the k-fold cross validation, has not been ale to increase the accuracy due to overfitting and generalising output labels. Hence this is not a best suitable model."
      ],
      "metadata": {
        "id": "FjJGGffxxG74"
      }
    },
    {
      "cell_type": "markdown",
      "metadata": {
        "id": "3PBqNg1mpgWK"
      },
      "source": [
        "#Training the models again by using different feature extraction techniques"
      ]
    },
    {
      "cell_type": "markdown",
      "metadata": {
        "id": "7YUvtxVRpgWK"
      },
      "source": [
        "# 1. Univariative technique feature selection"
      ]
    },
    {
      "cell_type": "markdown",
      "metadata": {
        "id": "33wCgsA5pgWK"
      },
      "source": [
        "This technique is to reducing the number of features, to reduce overfitting and improve the generalization of models. \n",
        "\n",
        "Helps to gain a better understanding of the features and their relationship to the target variable."
      ]
    },
    {
      "cell_type": "code",
      "execution_count": null,
      "metadata": {
        "colab": {
          "base_uri": "https://localhost:8080/",
          "height": 544
        },
        "id": "UbJRu8Y3pgWK",
        "outputId": "4c3bfd40-32d8-47dc-c16e-9bf2e9db16a9"
      },
      "outputs": [
        {
          "output_type": "stream",
          "name": "stderr",
          "text": [
            "/usr/local/lib/python3.7/dist-packages/sklearn/utils/validation.py:993: DataConversionWarning: A column-vector y was passed when a 1d array was expected. Please change the shape of y to (n_samples, ), for example using ravel().\n",
            "  y = column_or_1d(y, warn=True)\n"
          ]
        },
        {
          "output_type": "execute_result",
          "data": {
            "text/plain": [
              "                            score       p_values\n",
              "Img0.1                1662.511303   0.000000e+00\n",
              "FileSize               916.750862   0.000000e+00\n",
              "size_asm               916.345864   0.000000e+00\n",
              "line_count_asm         839.877442   0.000000e+00\n",
              "Img107                 455.431251   0.000000e+00\n",
              "Img106                 399.294340   0.000000e+00\n",
              "Offset.1               352.468444   0.000000e+00\n",
              "TB_ff                  189.619312  7.978722e-281\n",
              "db                     173.123899  1.026067e-258\n",
              "asm_commands_dd        165.215063  5.905459e-248\n",
              "section_names_.rdata   144.619409  1.969503e-219\n",
              "ExtendedAscii          133.777889  4.066946e-204\n",
              "section_names_.text    124.343969  1.286683e-190\n",
              "TB_00                  119.718223  6.153882e-184"
            ],
            "text/html": [
              "\n",
              "  <div id=\"df-9799f309-bb6b-4cfc-991d-c6af6744375e\">\n",
              "    <div class=\"colab-df-container\">\n",
              "      <div>\n",
              "<style scoped>\n",
              "    .dataframe tbody tr th:only-of-type {\n",
              "        vertical-align: middle;\n",
              "    }\n",
              "\n",
              "    .dataframe tbody tr th {\n",
              "        vertical-align: top;\n",
              "    }\n",
              "\n",
              "    .dataframe thead th {\n",
              "        text-align: right;\n",
              "    }\n",
              "</style>\n",
              "<table border=\"1\" class=\"dataframe\">\n",
              "  <thead>\n",
              "    <tr style=\"text-align: right;\">\n",
              "      <th></th>\n",
              "      <th>score</th>\n",
              "      <th>p_values</th>\n",
              "    </tr>\n",
              "  </thead>\n",
              "  <tbody>\n",
              "    <tr>\n",
              "      <th>Img0.1</th>\n",
              "      <td>1662.511303</td>\n",
              "      <td>0.000000e+00</td>\n",
              "    </tr>\n",
              "    <tr>\n",
              "      <th>FileSize</th>\n",
              "      <td>916.750862</td>\n",
              "      <td>0.000000e+00</td>\n",
              "    </tr>\n",
              "    <tr>\n",
              "      <th>size_asm</th>\n",
              "      <td>916.345864</td>\n",
              "      <td>0.000000e+00</td>\n",
              "    </tr>\n",
              "    <tr>\n",
              "      <th>line_count_asm</th>\n",
              "      <td>839.877442</td>\n",
              "      <td>0.000000e+00</td>\n",
              "    </tr>\n",
              "    <tr>\n",
              "      <th>Img107</th>\n",
              "      <td>455.431251</td>\n",
              "      <td>0.000000e+00</td>\n",
              "    </tr>\n",
              "    <tr>\n",
              "      <th>Img106</th>\n",
              "      <td>399.294340</td>\n",
              "      <td>0.000000e+00</td>\n",
              "    </tr>\n",
              "    <tr>\n",
              "      <th>Offset.1</th>\n",
              "      <td>352.468444</td>\n",
              "      <td>0.000000e+00</td>\n",
              "    </tr>\n",
              "    <tr>\n",
              "      <th>TB_ff</th>\n",
              "      <td>189.619312</td>\n",
              "      <td>7.978722e-281</td>\n",
              "    </tr>\n",
              "    <tr>\n",
              "      <th>db</th>\n",
              "      <td>173.123899</td>\n",
              "      <td>1.026067e-258</td>\n",
              "    </tr>\n",
              "    <tr>\n",
              "      <th>asm_commands_dd</th>\n",
              "      <td>165.215063</td>\n",
              "      <td>5.905459e-248</td>\n",
              "    </tr>\n",
              "    <tr>\n",
              "      <th>section_names_.rdata</th>\n",
              "      <td>144.619409</td>\n",
              "      <td>1.969503e-219</td>\n",
              "    </tr>\n",
              "    <tr>\n",
              "      <th>ExtendedAscii</th>\n",
              "      <td>133.777889</td>\n",
              "      <td>4.066946e-204</td>\n",
              "    </tr>\n",
              "    <tr>\n",
              "      <th>section_names_.text</th>\n",
              "      <td>124.343969</td>\n",
              "      <td>1.286683e-190</td>\n",
              "    </tr>\n",
              "    <tr>\n",
              "      <th>TB_00</th>\n",
              "      <td>119.718223</td>\n",
              "      <td>6.153882e-184</td>\n",
              "    </tr>\n",
              "  </tbody>\n",
              "</table>\n",
              "</div>\n",
              "      <button class=\"colab-df-convert\" onclick=\"convertToInteractive('df-9799f309-bb6b-4cfc-991d-c6af6744375e')\"\n",
              "              title=\"Convert this dataframe to an interactive table.\"\n",
              "              style=\"display:none;\">\n",
              "        \n",
              "  <svg xmlns=\"http://www.w3.org/2000/svg\" height=\"24px\"viewBox=\"0 0 24 24\"\n",
              "       width=\"24px\">\n",
              "    <path d=\"M0 0h24v24H0V0z\" fill=\"none\"/>\n",
              "    <path d=\"M18.56 5.44l.94 2.06.94-2.06 2.06-.94-2.06-.94-.94-2.06-.94 2.06-2.06.94zm-11 1L8.5 8.5l.94-2.06 2.06-.94-2.06-.94L8.5 2.5l-.94 2.06-2.06.94zm10 10l.94 2.06.94-2.06 2.06-.94-2.06-.94-.94-2.06-.94 2.06-2.06.94z\"/><path d=\"M17.41 7.96l-1.37-1.37c-.4-.4-.92-.59-1.43-.59-.52 0-1.04.2-1.43.59L10.3 9.45l-7.72 7.72c-.78.78-.78 2.05 0 2.83L4 21.41c.39.39.9.59 1.41.59.51 0 1.02-.2 1.41-.59l7.78-7.78 2.81-2.81c.8-.78.8-2.07 0-2.86zM5.41 20L4 18.59l7.72-7.72 1.47 1.35L5.41 20z\"/>\n",
              "  </svg>\n",
              "      </button>\n",
              "      \n",
              "  <style>\n",
              "    .colab-df-container {\n",
              "      display:flex;\n",
              "      flex-wrap:wrap;\n",
              "      gap: 12px;\n",
              "    }\n",
              "\n",
              "    .colab-df-convert {\n",
              "      background-color: #E8F0FE;\n",
              "      border: none;\n",
              "      border-radius: 50%;\n",
              "      cursor: pointer;\n",
              "      display: none;\n",
              "      fill: #1967D2;\n",
              "      height: 32px;\n",
              "      padding: 0 0 0 0;\n",
              "      width: 32px;\n",
              "    }\n",
              "\n",
              "    .colab-df-convert:hover {\n",
              "      background-color: #E2EBFA;\n",
              "      box-shadow: 0px 1px 2px rgba(60, 64, 67, 0.3), 0px 1px 3px 1px rgba(60, 64, 67, 0.15);\n",
              "      fill: #174EA6;\n",
              "    }\n",
              "\n",
              "    [theme=dark] .colab-df-convert {\n",
              "      background-color: #3B4455;\n",
              "      fill: #D2E3FC;\n",
              "    }\n",
              "\n",
              "    [theme=dark] .colab-df-convert:hover {\n",
              "      background-color: #434B5C;\n",
              "      box-shadow: 0px 1px 3px 1px rgba(0, 0, 0, 0.15);\n",
              "      filter: drop-shadow(0px 1px 2px rgba(0, 0, 0, 0.3));\n",
              "      fill: #FFFFFF;\n",
              "    }\n",
              "  </style>\n",
              "\n",
              "      <script>\n",
              "        const buttonEl =\n",
              "          document.querySelector('#df-9799f309-bb6b-4cfc-991d-c6af6744375e button.colab-df-convert');\n",
              "        buttonEl.style.display =\n",
              "          google.colab.kernel.accessAllowed ? 'block' : 'none';\n",
              "\n",
              "        async function convertToInteractive(key) {\n",
              "          const element = document.querySelector('#df-9799f309-bb6b-4cfc-991d-c6af6744375e');\n",
              "          const dataTable =\n",
              "            await google.colab.kernel.invokeFunction('convertToInteractive',\n",
              "                                                     [key], {});\n",
              "          if (!dataTable) return;\n",
              "\n",
              "          const docLinkHtml = 'Like what you see? Visit the ' +\n",
              "            '<a target=\"_blank\" href=https://colab.research.google.com/notebooks/data_table.ipynb>data table notebook</a>'\n",
              "            + ' to learn more about interactive tables.';\n",
              "          element.innerHTML = '';\n",
              "          dataTable['output_type'] = 'display_data';\n",
              "          await google.colab.output.renderOutput(dataTable, element);\n",
              "          const docLink = document.createElement('div');\n",
              "          docLink.innerHTML = docLinkHtml;\n",
              "          element.appendChild(docLink);\n",
              "        }\n",
              "      </script>\n",
              "    </div>\n",
              "  </div>\n",
              "  "
            ]
          },
          "metadata": {},
          "execution_count": 38
        }
      ],
      "source": [
        "selector = SelectKBest(f_classif, k=14)\n",
        "selector.fit(X,y)\n",
        "feature_score = pd.DataFrame({\"score\":selector.scores_,\"p_values\":selector.pvalues_},index=X.columns)\n",
        "feature_score.nlargest(n=14,columns=\"score\")\n",
        "\n",
        "## Low p value --> Higher the relation with target column"
      ]
    },
    {
      "cell_type": "markdown",
      "metadata": {
        "id": "mNJRLBZUpgWK"
      },
      "source": [
        "### Data sampling"
      ]
    },
    {
      "cell_type": "code",
      "execution_count": null,
      "metadata": {
        "colab": {
          "base_uri": "https://localhost:8080/"
        },
        "id": "h4_luDohpgWK",
        "outputId": "7ecffdfa-9631-4c67-d712-996ded51c5d3"
      },
      "outputs": [
        {
          "output_type": "stream",
          "name": "stdout",
          "text": [
            "(4999, 14) (4999,)\n"
          ]
        }
      ],
      "source": [
        "X = data[[\"Img0.1\",\n",
        "\"FileSize\",\n",
        "\"size_asm\",\n",
        "\"line_count_asm\",\n",
        "\"Img107\",\n",
        "\"Img106\",\n",
        "\"Offset.1\",\n",
        "\"TB_ff\",\n",
        "\"db\",\n",
        "\"asm_commands_dd\",\n",
        "\"section_names_.rdata\",\n",
        "\"ExtendedAscii\",\n",
        "\"section_names_.text\",\n",
        "\"TB_00\"]]\n",
        "y = data.target\n",
        "\n",
        "print(np.shape(X), np.shape(y))"
      ]
    },
    {
      "cell_type": "markdown",
      "metadata": {
        "id": "kwrVqn63pgWK"
      },
      "source": [
        "### Data Normalization"
      ]
    },
    {
      "cell_type": "code",
      "execution_count": null,
      "metadata": {
        "colab": {
          "base_uri": "https://localhost:8080/"
        },
        "id": "Jq8tSMMIpgWL",
        "outputId": "359eb03d-5c44-4e31-bc97-f9d0cb137f69"
      },
      "outputs": [
        {
          "output_type": "stream",
          "name": "stdout",
          "text": [
            "(4999, 14)\n"
          ]
        }
      ],
      "source": [
        "# Normaliser for Inputs\n",
        "xscale = StandardScaler()\n",
        "xscale.fit(X.values)\n",
        "print(X.values.shape)\n",
        "X_trans = xscale.transform(X.values)"
      ]
    },
    {
      "cell_type": "markdown",
      "source": [
        "Here 14 features are extracted to find the accuracy of data when trained and tested."
      ],
      "metadata": {
        "id": "aFmHkzYH099W"
      }
    },
    {
      "cell_type": "markdown",
      "metadata": {
        "id": "RR5p0HUGpgWL"
      },
      "source": [
        "### Random forest\n"
      ]
    },
    {
      "cell_type": "code",
      "execution_count": null,
      "metadata": {
        "colab": {
          "base_uri": "https://localhost:8080/"
        },
        "id": "YpkmQBx0pgWN",
        "outputId": "21dcff50-cbc9-47ee-e06a-a1c5fb5699dc"
      },
      "outputs": [
        {
          "output_type": "execute_result",
          "data": {
            "text/plain": [
              "0.9115"
            ]
          },
          "metadata": {},
          "execution_count": 40
        }
      ],
      "source": [
        "# Split the virus data into train/test data sets with 40% reserved for testing\n",
        "X_train, X_test, y_train, y_test = train_test_split(X_trans, y, test_size=0.4, random_state=0)\n",
        "\n",
        "# Build an RF model for predicting virus classifications using training data\n",
        "clf = RandomForestClassifier().fit(X_train, y_train)\n",
        "\n",
        "# Now measure its performance with the test data\n",
        "rf2 = clf.score(X_test, y_test)\n",
        "rf2"
      ]
    },
    {
      "cell_type": "markdown",
      "source": [
        "Score for random forest model with univariative technique is 89 % as the selected featured data is lower than that of original data.\n",
        "\n",
        "This is mostly because of the data loss that might have happened while selecting only particular features.\n",
        "\n",
        "But its almost negligable performance score loss."
      ],
      "metadata": {
        "id": "HhV40VuU1kWg"
      }
    },
    {
      "cell_type": "markdown",
      "metadata": {
        "id": "xJ7xYUu4pgWO"
      },
      "source": [
        "### Logistic regression\n"
      ]
    },
    {
      "cell_type": "code",
      "execution_count": null,
      "metadata": {
        "colab": {
          "base_uri": "https://localhost:8080/"
        },
        "id": "Qmx70rXcpgWO",
        "outputId": "6055c7a4-7a4a-49bb-e182-359f804bfb45"
      },
      "outputs": [
        {
          "output_type": "execute_result",
          "data": {
            "text/plain": [
              "0.5715"
            ]
          },
          "metadata": {},
          "execution_count": 42
        }
      ],
      "source": [
        "clf = LogisticRegression().fit(X_train, y_train)\n",
        "\n",
        "# Now measure its performance with the test data\n",
        "lg2 = clf.score(X_test, y_test)\n",
        "lg2"
      ]
    },
    {
      "cell_type": "markdown",
      "source": [
        "Score for logistic regression model with univariative technique selected featured data is higher than that of original data which is 57 %.\n",
        "\n",
        "Mostly because logistic regression performs well with less amount of data and its performance score is quite good now."
      ],
      "metadata": {
        "id": "ymvGtoBc2i-Q"
      }
    },
    {
      "cell_type": "markdown",
      "metadata": {
        "id": "YbK1jpe4pgWO"
      },
      "source": [
        "### Decision tree\n",
        "\n",
        "Score for decision tree model with univariative technique selected featured data is lower than that of original data.\n",
        "\n",
        "Mostly because of the data loss happened while selecting only particular features.\n",
        "\n",
        "But its almost negligable performance score loss."
      ]
    },
    {
      "cell_type": "code",
      "execution_count": null,
      "metadata": {
        "colab": {
          "base_uri": "https://localhost:8080/"
        },
        "id": "nUw8E7WCpgWO",
        "outputId": "975eda38-9344-4c82-fde0-911c4d2bb6eb"
      },
      "outputs": [
        {
          "output_type": "execute_result",
          "data": {
            "text/plain": [
              "0.809"
            ]
          },
          "metadata": {},
          "execution_count": 43
        }
      ],
      "source": [
        "# Build an DT model for predicting virus classifications using training data\n",
        "clf = DecisionTreeClassifier().fit(X_train, y_train)\n",
        "\n",
        "# Now measure its performance with the test data\n",
        "dt2 = clf.score(X_test, y_test)\n",
        "dt2"
      ]
    },
    {
      "cell_type": "markdown",
      "metadata": {
        "id": "satQ1PcLpgWO"
      },
      "source": [
        "### K-nearest neighbors\n",
        "\n",
        "Score for KNN model with univariative technique selected featured data is higher than that of original data.\n",
        "\n",
        "Mostly because KNN performs well with less amount of data, calculating distances between each data instance would be easier.\n",
        "\n",
        "& its performance score is very good now."
      ]
    },
    {
      "cell_type": "code",
      "execution_count": null,
      "metadata": {
        "colab": {
          "base_uri": "https://localhost:8080/"
        },
        "id": "DYKgwwQlpgWO",
        "outputId": "b42eeb1f-1a25-4d36-dbaa-33fca071bd14"
      },
      "outputs": [
        {
          "output_type": "execute_result",
          "data": {
            "text/plain": [
              "0.3075"
            ]
          },
          "metadata": {},
          "execution_count": 44
        }
      ],
      "source": [
        "# Build an KNN model for predicting virus classifications using training data\n",
        "clf = KNeighborsClassifier().fit(X_train, y_train)\n",
        "\n",
        "# Now measure its performance with the test data\n",
        "knn2 = clf.score(X_test, y_test)\n",
        "knn2"
      ]
    },
    {
      "cell_type": "markdown",
      "metadata": {
        "id": "Kp5RoUPYpgWO"
      },
      "source": [
        "# 2. Information gain technique feature selection"
      ]
    },
    {
      "cell_type": "markdown",
      "metadata": {
        "id": "owhSFwy8pgWO"
      },
      "source": [
        "Information gain calculates the reduction in entropy from the transformation of a dataset. \n",
        "\n",
        "It can be used for feature selection by evaluating the Information gain of each variable in the context of the target variable."
      ]
    },
    {
      "cell_type": "code",
      "execution_count": null,
      "metadata": {
        "colab": {
          "base_uri": "https://localhost:8080/"
        },
        "id": "XG3GVFz6pgWP",
        "outputId": "39cab2d8-12bb-4343-c24d-b8fbca8e755d"
      },
      "outputs": [
        {
          "output_type": "execute_result",
          "data": {
            "text/plain": [
              "db                      1.024723\n",
              "FileSize                1.020712\n",
              "size_asm                1.016333\n",
              "line_count_asm          0.970276\n",
              "Img107                  0.953156\n",
              "section_names_.rdata    0.946999\n",
              "Img106                  0.923424\n",
              "ExtendedAscii           0.922699\n",
              "asm_commands_dd         0.860506\n",
              "section_names_.text     0.820484\n",
              "TB_ff                   0.792434\n",
              "TB_00                   0.781511\n",
              "Img0.1                  0.584095\n",
              "Offset.1                0.315341\n",
              "dtype: float64"
            ]
          },
          "metadata": {},
          "execution_count": 45
        }
      ],
      "source": [
        "mutual_info = mutual_info_classif(X,y)\n",
        "mutual_info = pd.Series(mutual_info) \n",
        "mutual_info.index = X.columns\n",
        "mutual_info.sort_values(ascending=False)\n",
        "\n",
        "# Higher the value --> Higher the dependency with target column"
      ]
    },
    {
      "cell_type": "markdown",
      "metadata": {
        "id": "4wMOeVHPpgWP"
      },
      "source": [
        "### Data sampling"
      ]
    },
    {
      "cell_type": "code",
      "execution_count": null,
      "metadata": {
        "colab": {
          "base_uri": "https://localhost:8080/"
        },
        "id": "z5Vt8_tMpgWP",
        "outputId": "8ebd658f-c948-4764-abdb-3245dce32974"
      },
      "outputs": [
        {
          "output_type": "stream",
          "name": "stdout",
          "text": [
            "(4999, 10) (4999,)\n"
          ]
        }
      ],
      "source": [
        "X = data[[\"section_names_.data\",\n",
        "\"ent_q_diff_diffs_2_min\",\n",
        "\"ent_p_3\",\n",
        "\"db\",\n",
        "\"FileSize\",\n",
        "\"__vbaStrI4\",\n",
        "\"Img10.1\",\n",
        "\"GetEnhMetaFilePaletteEntries\",\n",
        "\"Img6.1\",\n",
        "\"__vbaErrorOverflow\"]]\n",
        "y = data.target\n",
        "\n",
        "print(np.shape(X), np.shape(y))"
      ]
    },
    {
      "cell_type": "markdown",
      "metadata": {
        "id": "bUT4M995pgWP"
      },
      "source": [
        "### Data Normalization"
      ]
    },
    {
      "cell_type": "code",
      "execution_count": null,
      "metadata": {
        "colab": {
          "base_uri": "https://localhost:8080/"
        },
        "id": "3aaAEWvCpgWP",
        "outputId": "08a74ae3-a4c0-4e04-941f-204f11164abf"
      },
      "outputs": [
        {
          "output_type": "stream",
          "name": "stdout",
          "text": [
            "(4999, 10)\n"
          ]
        }
      ],
      "source": [
        "# Normaliser for Inputs\n",
        "xscale = StandardScaler()\n",
        "xscale.fit(X.values)\n",
        "print(X.values.shape)\n",
        "X_trans = xscale.transform(X.values)"
      ]
    },
    {
      "cell_type": "markdown",
      "source": [
        "10 Best features are extracted for this feature selection technique."
      ],
      "metadata": {
        "id": "s748Y3Pa3O0X"
      }
    },
    {
      "cell_type": "markdown",
      "metadata": {
        "id": "gGZQuT99pgWP"
      },
      "source": [
        "## Random forest\n",
        "\n",
        "Score for random forest model with Information gain technique feature selection is 87% and is lower than that of original data.\n",
        "\n",
        "Mostly because of the data loss happened while selecting only particular features.\n",
        "\n",
        "But its almost negotigable performance score loss."
      ]
    },
    {
      "cell_type": "code",
      "execution_count": null,
      "metadata": {
        "colab": {
          "base_uri": "https://localhost:8080/"
        },
        "id": "EhlWIvMppgWP",
        "outputId": "ac2ab5ca-dfcd-4f60-92ae-b1e8448cd17b"
      },
      "outputs": [
        {
          "output_type": "execute_result",
          "data": {
            "text/plain": [
              "0.905"
            ]
          },
          "metadata": {},
          "execution_count": 62
        }
      ],
      "source": [
        "# Split the virus data into train/test data sets with 40% reserved for testing\n",
        "X_train, X_test, y_train, y_test = train_test_split(X_trans, y, test_size=0.4, random_state=0)\n",
        "\n",
        "# Build an RF model for predicting virus classifications using training data\n",
        "clf = RandomForestClassifier().fit(X_train, y_train)\n",
        "\n",
        "# Now measure its performance with the test data\n",
        "rf3 = clf.score(X_test, y_test)\n",
        "rf3"
      ]
    },
    {
      "cell_type": "markdown",
      "metadata": {
        "id": "Z1xo0P0bpgWP"
      },
      "source": [
        "## Logistic regression\n",
        "\n",
        "Score for logistic regression model with information gain technique selected featured data is lower than that of original data.\n",
        "\n",
        "Mostly because of the data loss happened while selecting only particular features.\n",
        "\n",
        "& its performance score is very low now."
      ]
    },
    {
      "cell_type": "code",
      "execution_count": null,
      "metadata": {
        "colab": {
          "base_uri": "https://localhost:8080/"
        },
        "id": "9wYnhbzZpgWP",
        "outputId": "52034415-5492-4656-b565-e56a6947e9c5"
      },
      "outputs": [
        {
          "output_type": "execute_result",
          "data": {
            "text/plain": [
              "0.5715"
            ]
          },
          "metadata": {},
          "execution_count": 48
        }
      ],
      "source": [
        "clf = LogisticRegression().fit(X_train, y_train)\n",
        "\n",
        "# Now measure its performance with the test data\n",
        "lg3 = clf.score(X_test, y_test)\n",
        "lg3"
      ]
    },
    {
      "cell_type": "markdown",
      "metadata": {
        "id": "jz7Cz4f2pgWP"
      },
      "source": [
        "## Decision tree\n",
        "\n",
        "Score for decision tree model with information gain technique selected featured data is lower than that of original data.\n",
        "\n",
        "Mostly because of the data loss happened while selecting only particular features.\n",
        "\n",
        "But its almost negligable performance score loss."
      ]
    },
    {
      "cell_type": "code",
      "execution_count": null,
      "metadata": {
        "colab": {
          "base_uri": "https://localhost:8080/"
        },
        "id": "yUTjZGyIpgWP",
        "outputId": "e1f3b594-274a-43b7-8622-2352b219340c"
      },
      "outputs": [
        {
          "output_type": "execute_result",
          "data": {
            "text/plain": [
              "0.798"
            ]
          },
          "metadata": {},
          "execution_count": 49
        }
      ],
      "source": [
        "# Build an DT model for predicting virus classifications using training data\n",
        "clf = DecisionTreeClassifier().fit(X_train, y_train)\n",
        "\n",
        "# Now measure its performance with the test data\n",
        "dt3 = clf.score(X_test, y_test)\n",
        "dt3"
      ]
    },
    {
      "cell_type": "markdown",
      "metadata": {
        "id": "hI01rKgrpgWQ"
      },
      "source": [
        "### K-nearest neighbors\n",
        "\n",
        "Score for KNN model with information gain technique selected featured data is higher than that of original data.\n",
        "\n",
        "Mostly because KNN performs well with less amount of data, calculating distances between each data instance would be easier.\n",
        "\n",
        "& its performance score is quite good now."
      ]
    },
    {
      "cell_type": "code",
      "execution_count": null,
      "metadata": {
        "colab": {
          "base_uri": "https://localhost:8080/"
        },
        "id": "hrEi3y5IpgWQ",
        "outputId": "db557da8-94a7-414a-cc44-c9604b6cbe4d"
      },
      "outputs": [
        {
          "output_type": "execute_result",
          "data": {
            "text/plain": [
              "0.3075"
            ]
          },
          "metadata": {},
          "execution_count": 50
        }
      ],
      "source": [
        "# Build an KNN model for predicting virus classifications using training data\n",
        "clf = KNeighborsClassifier().fit(X_train, y_train)\n",
        "\n",
        "# Now measure its performance with the test data\n",
        "knn3 = clf.score(X_test, y_test)\n",
        "knn3"
      ]
    },
    {
      "cell_type": "markdown",
      "metadata": {
        "id": "3u_RyKY7pgWQ"
      },
      "source": [
        "# 3. Feature importance"
      ]
    },
    {
      "cell_type": "markdown",
      "metadata": {
        "id": "FoWQlyVspgWQ"
      },
      "source": [
        "Feature importance allows you to understand the relationship between the features and the target variable\n",
        "\n",
        "Reduces the dimensionality of the model"
      ]
    },
    {
      "cell_type": "code",
      "execution_count": null,
      "metadata": {
        "colab": {
          "base_uri": "https://localhost:8080/"
        },
        "id": "KEHA9l2DpgWQ",
        "outputId": "abdd2f91-3feb-4153-c016-185b3d141d97"
      },
      "outputs": [
        {
          "output_type": "stream",
          "name": "stdout",
          "text": [
            "Feature: section_names_.data, Score: 0.13692\n",
            "Feature: ent_q_diff_diffs_2_min, Score: 0.22923\n",
            "Feature: ent_p_3, Score: 0.17427\n",
            "Feature: db, Score: 0.14187\n",
            "Feature: FileSize, Score: 0.22359\n",
            "Feature: __vbaStrI4, Score: 0.00459\n",
            "Feature: Img10.1, Score: 0.04019\n",
            "Feature: GetEnhMetaFilePaletteEntries, Score: 0.00577\n",
            "Feature: Img6.1, Score: 0.04012\n",
            "Feature: __vbaErrorOverflow, Score: 0.00346\n"
          ]
        }
      ],
      "source": [
        "# define the model\n",
        "model = RandomForestClassifier()\n",
        "# fit the model\n",
        "model.fit(X, y)\n",
        "# get importance\n",
        "importance = model.feature_importances_\n",
        "# summarize feature importance\n",
        "feat_imp = dict()\n",
        "for i,v in enumerate(importance):\n",
        "\tprint('Feature: %s, Score: %.5f' % (X.columns[i],v))\n",
        "\tfeat_imp[X.columns[i]] = v"
      ]
    },
    {
      "cell_type": "code",
      "execution_count": null,
      "metadata": {
        "colab": {
          "base_uri": "https://localhost:8080/"
        },
        "id": "elAh3BeZpgWQ",
        "outputId": "c2b29b46-7b60-47c8-e9f5-0323fd0e7226"
      },
      "outputs": [
        {
          "output_type": "stream",
          "name": "stdout",
          "text": [
            "ent_q_diff_diffs_2_min 0.2292250012148478\n",
            "FileSize 0.22358991248916388\n",
            "ent_p_3 0.17427167965332174\n",
            "db 0.14186631439060013\n",
            "section_names_.data 0.13692272291626648\n",
            "Img10.1 0.040193680860887766\n",
            "Img6.1 0.0401155871176772\n",
            "GetEnhMetaFilePaletteEntries 0.005769978423521473\n",
            "__vbaStrI4 0.004588594683286721\n",
            "__vbaErrorOverflow 0.0034565282504266273\n"
          ]
        }
      ],
      "source": [
        "feat_imp = {k: v for k, v in sorted(feat_imp.items(), key=lambda item: item[1], reverse=True)}\n",
        "feat_imp\n",
        "\n",
        "count = 0\n",
        "for i in feat_imp.keys():\n",
        "    print(i, feat_imp[i])\n",
        "    count += 1\n",
        "    if count > 14:\n",
        "        break"
      ]
    },
    {
      "cell_type": "markdown",
      "metadata": {
        "id": "FnxOEXwjpgWQ"
      },
      "source": [
        "### Data sampling"
      ]
    },
    {
      "cell_type": "code",
      "execution_count": null,
      "metadata": {
        "colab": {
          "base_uri": "https://localhost:8080/"
        },
        "id": "hC4l7PxkpgWQ",
        "outputId": "32c91ece-cd12-44b5-b1b1-b88c5cdca49a"
      },
      "outputs": [
        {
          "output_type": "stream",
          "name": "stdout",
          "text": [
            "(4999, 15) (4999,)\n"
          ]
        }
      ],
      "source": [
        "X = data[[\"section_names_header\",\n",
        "\"ent_q_diff_diffs_1_min\",\n",
        "\"ent_q_diff_diffs_2_median\",\n",
        "\"ent_p_7\",\n",
        "\"TB_b1\",\n",
        "\"TB_2f\",\n",
        "\"_cexit\",\n",
        "\"_exit\",\n",
        "\"ent_q_diffs_18\",\n",
        "\"ent_p_5\",\n",
        "\"Offset.1\",\n",
        "\"TB_da\",\n",
        "\"misc_trap\",\n",
        "\"TB_29\",\n",
        "\"TB_ad\"]]\n",
        "y = data.target\n",
        "\n",
        "print(np.shape(X), np.shape(y))"
      ]
    },
    {
      "cell_type": "markdown",
      "metadata": {
        "id": "opCp8HFmpgWQ"
      },
      "source": [
        "### Data Normalization"
      ]
    },
    {
      "cell_type": "code",
      "execution_count": null,
      "metadata": {
        "colab": {
          "base_uri": "https://localhost:8080/"
        },
        "id": "dB0CY6OGpgWQ",
        "outputId": "2a4ada94-b8a3-4c54-bc69-e9ff68c7dca6"
      },
      "outputs": [
        {
          "output_type": "stream",
          "name": "stdout",
          "text": [
            "(4999, 15)\n"
          ]
        }
      ],
      "source": [
        "# Normaliser for Inputs\n",
        "xscale = StandardScaler()\n",
        "xscale.fit(X.values)\n",
        "print(X.values.shape)\n",
        "X_trans = xscale.transform(X.values)"
      ]
    },
    {
      "cell_type": "markdown",
      "source": [
        "15 most important features with best scores are selected to fit into a data model."
      ],
      "metadata": {
        "id": "lLnnYtFC4JO3"
      }
    },
    {
      "cell_type": "markdown",
      "metadata": {
        "id": "QhbAyQvYpgWQ"
      },
      "source": [
        "## Random forest\n",
        "\n",
        "Score for random forest model with feature importance technique selected featured data is 90% and is lower than that of original data.\n",
        "\n",
        "Mostly because of the data loss happened while selecting only particular features.\n",
        "\n",
        "But its almost negligable performance score loss."
      ]
    },
    {
      "cell_type": "code",
      "execution_count": null,
      "metadata": {
        "colab": {
          "base_uri": "https://localhost:8080/"
        },
        "id": "khO8Yln6pgWR",
        "outputId": "88d3d6dc-af81-4fd8-ce7a-5d8ce58bf9b3"
      },
      "outputs": [
        {
          "output_type": "execute_result",
          "data": {
            "text/plain": [
              "0.901"
            ]
          },
          "metadata": {},
          "execution_count": 55
        }
      ],
      "source": [
        "# Split the virus data into train/test data sets with 40% reserved for testing\n",
        "X_train, X_test, y_train, y_test = train_test_split(X_trans, y, test_size=0.4, random_state=0)\n",
        "\n",
        "# Build an RF model for predicting virus classifications using training data\n",
        "clf = RandomForestClassifier().fit(X_train, y_train)\n",
        "\n",
        "# Now measure its performance with the test data\n",
        "rf4 = clf.score(X_test, y_test)\n",
        "rf4"
      ]
    },
    {
      "cell_type": "markdown",
      "metadata": {
        "id": "9XYXmuVlpgWR"
      },
      "source": [
        "## Logistic regression\n",
        "\n",
        "Score for logistic regression model with feature importance technique selected featured data is lower than that of original data.\n",
        "\n",
        "Mostly because of the data loss happened while selecting only particular features.\n",
        "\n",
        "& its performance score is very low now."
      ]
    },
    {
      "cell_type": "code",
      "execution_count": null,
      "metadata": {
        "colab": {
          "base_uri": "https://localhost:8080/"
        },
        "id": "w7iBbC7DpgWR",
        "outputId": "fdbfede5-4e25-421d-b622-53b5cc6d9ae2"
      },
      "outputs": [
        {
          "output_type": "execute_result",
          "data": {
            "text/plain": [
              "0.381"
            ]
          },
          "metadata": {},
          "execution_count": 56
        }
      ],
      "source": [
        "clf = LogisticRegression().fit(X_train, y_train)\n",
        "\n",
        "# Now measure its performance with the test data\n",
        "lg4 = clf.score(X_test, y_test)\n",
        "lg4"
      ]
    },
    {
      "cell_type": "markdown",
      "metadata": {
        "id": "TKi3txqupgWR"
      },
      "source": [
        "## Decision tree\n",
        "\n",
        "Score for decision tree model with feature importance technique selected featured data is lower than that of original data.\n",
        "\n",
        "Mostly because of the data loss happened while selecting only particular features.\n",
        "\n",
        "But its almost negligable performance score loss."
      ]
    },
    {
      "cell_type": "code",
      "execution_count": null,
      "metadata": {
        "colab": {
          "base_uri": "https://localhost:8080/"
        },
        "id": "aCRKHzm1pgWR",
        "outputId": "7b2234db-58cf-43e1-a605-95921fcf16ab"
      },
      "outputs": [
        {
          "output_type": "execute_result",
          "data": {
            "text/plain": [
              "0.8025"
            ]
          },
          "metadata": {},
          "execution_count": 57
        }
      ],
      "source": [
        "# Build an DT model for predicting virus classifications using training data\n",
        "clf = DecisionTreeClassifier().fit(X_train, y_train)\n",
        "\n",
        "# Now measure its performance with the test data\n",
        "dt4 = clf.score(X_test, y_test)\n",
        "dt4"
      ]
    },
    {
      "cell_type": "markdown",
      "metadata": {
        "id": "ZAS5BDiXpgWR"
      },
      "source": [
        "### K-nearest neighbors\n",
        "\n",
        "Score for KNN model with feature importance technique selected featured data is higher than that of original data with 59 % accuracy.\n",
        "\n",
        "Mostly because KNN performs well with less amount of data, calculating distances between each data instance would be easier.\n",
        "\n",
        "& its performance score is increased now."
      ]
    },
    {
      "cell_type": "code",
      "execution_count": null,
      "metadata": {
        "colab": {
          "base_uri": "https://localhost:8080/"
        },
        "id": "xeRmEyeBpgWR",
        "outputId": "dfe6caed-04c8-4f32-c0b3-c1f50321e924"
      },
      "outputs": [
        {
          "output_type": "execute_result",
          "data": {
            "text/plain": [
              "0.592"
            ]
          },
          "metadata": {},
          "execution_count": 58
        }
      ],
      "source": [
        "# Build an KNN model for predicting virus classifications using training data\n",
        "clf = KNeighborsClassifier().fit(X_train, y_train)\n",
        "\n",
        "# Now measure its performance with the test data\n",
        "knn4 = clf.score(X_test, y_test)\n",
        "knn4"
      ]
    },
    {
      "cell_type": "markdown",
      "metadata": {
        "id": "OejZ1nFnpgWR"
      },
      "source": [
        "# Performance comparision Graph"
      ]
    },
    {
      "cell_type": "code",
      "execution_count": null,
      "metadata": {
        "colab": {
          "base_uri": "https://localhost:8080/",
          "height": 277
        },
        "id": "3Hq_z25_pgWR",
        "outputId": "7f529d92-b8c2-4564-ba77-6078f510283c"
      },
      "outputs": [
        {
          "output_type": "stream",
          "name": "stdout",
          "text": [
            "[0.91, 0.9115, 0.905, 0.901]\n"
          ]
        },
        {
          "output_type": "execute_result",
          "data": {
            "text/plain": [
              "Text(0.5, 1.0, 'Performance score comparision of Random forest Algorithm')"
            ]
          },
          "metadata": {},
          "execution_count": 63
        },
        {
          "output_type": "display_data",
          "data": {
            "text/plain": [
              "<Figure size 720x216 with 1 Axes>"
            ],
            "image/png": "[encoded data removed]"
          },
          "metadata": {
            "needs_background": "light"
          }
        }
      ],
      "source": [
        "algorithms = ['Random forest(original data)', 'Rf (Univariative)', 'Rf (Information gain)', 'Rf (feature importance)']\n",
        "percentage = [rf1, rf2, rf3, rf4]\n",
        "print(percentage)\n",
        "\n",
        "plt.figure(figsize=[10,3])\n",
        "plt.bar(algorithms, percentage)\n",
        "plt.xlabel(\"Algorithms\")\n",
        "plt.ylabel(\"performance score\")\n",
        "plt.title(\"Performance score comparision of Random forest Algorithm\")"
      ]
    },
    {
      "cell_type": "markdown",
      "source": [
        "When I compare the accuracy scores through the graph with all the Random Forest Algorithms, we can see that the accuracy of Random Forest Algorithm with Univariate Feature Selection technique is much higer with 91.115 %."
      ],
      "metadata": {
        "id": "Pm4JDicu5A_y"
      }
    },
    {
      "cell_type": "code",
      "execution_count": null,
      "metadata": {
        "colab": {
          "base_uri": "https://localhost:8080/",
          "height": 277
        },
        "id": "ipcx8YLlpgWR",
        "outputId": "5d339fc6-63ea-49a0-9104-a0b5b197dc3b"
      },
      "outputs": [
        {
          "output_type": "stream",
          "name": "stdout",
          "text": [
            "[0.571, 0.5715, 0.5715, 0.381]\n"
          ]
        },
        {
          "output_type": "execute_result",
          "data": {
            "text/plain": [
              "Text(0.5, 1.0, 'Performance score comparision of Logistic regression Algorithm')"
            ]
          },
          "metadata": {},
          "execution_count": 60
        },
        {
          "output_type": "display_data",
          "data": {
            "text/plain": [
              "<Figure size 720x216 with 1 Axes>"
            ],
            "image/png": "[encoded data removed]"
          },
          "metadata": {
            "needs_background": "light"
          }
        }
      ],
      "source": [
        "algorithms = ['Logistic regression(original data)', 'Lr (Univariative)', 'Lr (Information gain)', 'Lr (feature importance)']\n",
        "percentage = [lg1, lg2, lg3, lg4]\n",
        "print(percentage)\n",
        "\n",
        "plt.figure(figsize=[10,3])\n",
        "plt.bar(algorithms, percentage)\n",
        "plt.xlabel(\"Algorithms\")\n",
        "plt.ylabel(\"performance score\")\n",
        "plt.title(\"Performance score comparision of Logistic regression Algorithm\")"
      ]
    },
    {
      "cell_type": "markdown",
      "source": [
        "When I compare the accuracy scores through the graph with all the Logistic Regression Algorithms, we can see that the accuracy of Logistic Regression Algorithms with Univariate Feature Selection technique and Information Gain Technique is high with 57 % accuracy."
      ],
      "metadata": {
        "id": "jyrYC8Nq5tlY"
      }
    },
    {
      "cell_type": "code",
      "execution_count": null,
      "metadata": {
        "colab": {
          "base_uri": "https://localhost:8080/",
          "height": 277
        },
        "id": "y3Snf-ZFpgWR",
        "outputId": "c0af9731-c933-46fb-da56-e17a7a5b342b"
      },
      "outputs": [
        {
          "output_type": "stream",
          "name": "stdout",
          "text": [
            "[0.801, 0.809, 0.798, 0.8025]\n"
          ]
        },
        {
          "output_type": "execute_result",
          "data": {
            "text/plain": [
              "Text(0.5, 1.0, 'Performance score comparision of Decision tree Algorithm')"
            ]
          },
          "metadata": {},
          "execution_count": 65
        },
        {
          "output_type": "display_data",
          "data": {
            "text/plain": [
              "<Figure size 720x216 with 1 Axes>"
            ],
            "image/png": "[encoded data removed]"
          },
          "metadata": {
            "needs_background": "light"
          }
        }
      ],
      "source": [
        "algorithms = ['Decision tree(original data)', 'Dt (Univariative)', 'Dt (Information gain)', 'Dt (feature importance)']\n",
        "percentage = [dt1, dt2, dt3, dt4]\n",
        "print(percentage)\n",
        "\n",
        "plt.figure(figsize=[10,3])\n",
        "plt.bar(algorithms, percentage)\n",
        "plt.xlabel(\"Algorithms\")\n",
        "plt.ylabel(\"performance score\")\n",
        "plt.title(\"Performance score comparision of Decision tree Algorithm\")"
      ]
    },
    {
      "cell_type": "markdown",
      "source": [
        "When I compare the accuracy scores through the graph with all the Decision Tree Classifier Algorithms, we can see that the accuracy of it is high on the original data set with all features as the model is able to predict accurately with all features with 80.3 % accuracy."
      ],
      "metadata": {
        "id": "amcxgLOc6FBg"
      }
    },
    {
      "cell_type": "code",
      "execution_count": null,
      "metadata": {
        "colab": {
          "base_uri": "https://localhost:8080/",
          "height": 277
        },
        "id": "Mb9F2hs6pgWS",
        "outputId": "20f203e2-7b77-4143-ed2f-f6fb08b99382"
      },
      "outputs": [
        {
          "output_type": "stream",
          "name": "stdout",
          "text": [
            "[0.3075, 0.3075, 0.3075, 0.592]\n"
          ]
        },
        {
          "output_type": "execute_result",
          "data": {
            "text/plain": [
              "Text(0.5, 1.0, 'Performance score comparision of KNN Algorithm')"
            ]
          },
          "metadata": {},
          "execution_count": 64
        },
        {
          "output_type": "display_data",
          "data": {
            "text/plain": [
              "<Figure size 720x216 with 1 Axes>"
            ],
            "image/png": "[encoded data removed]"
          },
          "metadata": {
            "needs_background": "light"
          }
        }
      ],
      "source": [
        "algorithms = ['KNN(original data)', 'KNN (Univariative)', 'KNN (Information gain)', 'KNN (feature importance)']\n",
        "percentage = [knn1, knn2, knn3, knn4]\n",
        "print(percentage)\n",
        "\n",
        "plt.figure(figsize=[10,3])\n",
        "plt.bar(algorithms, percentage)\n",
        "plt.xlabel(\"Algorithms\")\n",
        "plt.ylabel(\"performance score\")\n",
        "plt.title(\"Performance score comparision of KNN Algorithm\")"
      ]
    },
    {
      "cell_type": "markdown",
      "source": [
        "For KNN, KNN with feature Importance gives highest accuracy of 59% than other algorithms."
      ],
      "metadata": {
        "id": "Wql7CFAr6kd1"
      }
    },
    {
      "cell_type": "markdown",
      "metadata": {
        "id": "g9Q2y8PnpgWS"
      },
      "source": [
        "#Conclusion\n",
        "\n",
        "The k-fold cross validation method is helping in reducing the training time of the models.\n",
        "\n",
        "K-fold cross validation with the random forest classifier is giving the best scores of all.\n",
        "\n",
        "I have tried using different algorithms in combination with k-fold cross validation.\n",
        "\n",
        "\n",
        "Random Forest is the best model among all algorithms as the model is generating high accuracy test scores and is not overfitting.It is able to categorise the output labels well as compared to other models. So, Random Forest is classifying the virus attacks more accurately and I would use that for classifying the virus attacks accurately.\n",
        "\n"
      ]
    }
  ],
  "metadata": {
    "kernelspec": {
      "display_name": "Python 3.9.13 64-bit",
      "language": "python",
      "name": "python3"
    },
    "language_info": {
      "codemirror_mode": {
        "name": "ipython",
        "version": 3
      },
      "file_extension": ".py",
      "mimetype": "text/x-python",
      "name": "python",
      "nbconvert_exporter": "python",
      "pygments_lexer": "ipython3",
      "version": "3.9.13"
    },
    "orig_nbformat": 4,
    "vscode": {
      "interpreter": {
        "hash": "aee8b7b246df8f9039afb4144a1f6fd8d2ca17a180786b69acc140d282b71a49"
      }
    },
    "colab": {
      "provenance": []
    }
  },
  "nbformat": 4,
  "nbformat_minor": 0
}